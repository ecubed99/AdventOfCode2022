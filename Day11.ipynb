{
 "cells": [
  {
   "cell_type": "code",
   "execution_count": 1,
   "id": "d120a250-c014-46c7-a06f-2817cf1b362c",
   "metadata": {},
   "outputs": [],
   "source": [
    "# handy imports to have\n",
    "%matplotlib inline\n",
    "from sympy import symbols, Eq, solve\n",
    "import math\n",
    "from itertools import combinations_with_replacement , permutations, combinations, count\n",
    "import numpy as np\n",
    "import time\n",
    "import functools\n",
    "from tqdm.notebook import trange, tqdm\n",
    "import ipywidgets as widgets\n",
    "import matplotlib.pyplot as plt\n",
    "from collections import Counter, deque\n",
    "import more_itertools as mit"
   ]
  },
  {
   "cell_type": "code",
   "execution_count": null,
   "id": "a7a7bab2-390e-4879-b7cf-1fc1087f9f6e",
   "metadata": {},
   "outputs": [],
   "source": []
  },
  {
   "cell_type": "code",
   "execution_count": 19,
   "id": "0804bf3e-2ea9-4b97-9371-fe443b337bcf",
   "metadata": {},
   "outputs": [
    {
     "data": {
      "text/plain": [
       "['', '54', '65', '75', '74']"
      ]
     },
     "execution_count": 19,
     "metadata": {},
     "output_type": "execute_result"
    }
   ],
   "source": [
    "troop[1][1].replace(',', '').split(':')[1].split(' ')"
   ]
  },
  {
   "cell_type": "code",
   "execution_count": 148,
   "id": "a1cf363a-9d4e-49c2-88a2-dd267c5ec4e6",
   "metadata": {},
   "outputs": [],
   "source": [
    "# example input\n",
    "troop = [['Monkey 0:',   'Starting items: 79, 98',   'Operation: new = old * 19',   'Test: divisible by 23',     'If true: throw to monkey 2',     'If false: throw to monkey 3', ], ['Monkey 1:',   'Starting items: 54, 65, 75, 74',   'Operation: new = old + 6',   'Test: divisible by 19',     'If true: throw to monkey 2',     'If false: throw to monkey 0', ], ['Monkey 2:',   'Starting items: 79, 60, 97',   'Operation: new = old ** 2',   'Test: divisible by 13',     'If true: throw to monkey 1',     'If false: throw to monkey 3', ], ['Monkey 3:',   'Starting items: 74',   'Operation: new = old + 3',   'Test: divisible by 17',     'If true: throw to monkey 0',     'If false: throw to monkey 1', ]]\n"
   ]
  },
  {
   "cell_type": "code",
   "execution_count": 166,
   "id": "07bfe298-be10-43b9-86a7-7d03526cfa84",
   "metadata": {},
   "outputs": [],
   "source": [
    "# problem input\n",
    "troop = [['Monkey 0:',   'Starting items: 96, 60, 68, 91, 83, 57, 85',   'Operation: new = old * 2',   'Test: divisible by 17',     'If true: throw to monkey 2',     'If false: throw to monkey 5', ], ['Monkey 1:',   'Starting items: 75, 78, 68, 81, 73, 99',   'Operation: new = old + 3',   'Test: divisible by 13',     'If true: throw to monkey 7',     'If false: throw to monkey 4', ], ['Monkey 2:',   'Starting items: 69, 86, 67, 55, 96, 69, 94, 85',   'Operation: new = old + 6',   'Test: divisible by 19',     'If true: throw to monkey 6',     'If false: throw to monkey 5', ], ['Monkey 3:',   'Starting items: 88, 75, 74, 98, 80',   'Operation: new = old + 5',   'Test: divisible by 7',     'If true: throw to monkey 7',     'If false: throw to monkey 1', ], ['Monkey 4:',   'Starting items: 82',   'Operation: new = old + 8',   'Test: divisible by 11',     'If true: throw to monkey 0',     'If false: throw to monkey 2', ], ['Monkey 5:',   'Starting items: 72, 92, 92',   'Operation: new = old * 5',   'Test: divisible by 3',     'If true: throw to monkey 6',     'If false: throw to monkey 3', ], ['Monkey 6:',   'Starting items: 74, 61',   'Operation: new = old ** 2',   'Test: divisible by 2',     'If true: throw to monkey 3',     'If false: throw to monkey 1', ], ['Monkey 7:',   'Starting items: 76, 86, 83, 55',   'Operation: new = old + 4',   'Test: divisible by 5',     'If true: throw to monkey 4',     'If false: throw to monkey 0', ]]"
   ]
  },
  {
   "cell_type": "code",
   "execution_count": 170,
   "id": "ce7a15d3-d0b6-4a29-8f54-af6a47634c3d",
   "metadata": {},
   "outputs": [],
   "source": [
    "class monkey:\n",
    "    \n",
    "    def __init__(self, num, items, test, true, false, op):\n",
    "        self.number = num\n",
    "        self.items = items\n",
    "        self.test = test\n",
    "        self.true = true\n",
    "        self.false = false\n",
    "        [self.operation] = op.split('old')[-1:]\n",
    "        self.inspect_count = 0\n",
    "        \n",
    "    def __str__(self):\n",
    "        s1 = 'Monkey # ' + str(self.number) + ' has items: \\n'\n",
    "        s2 = ''\n",
    "        for i in self.items:\n",
    "            s2 += str(i) + ', '\n",
    "        s3 = '\\nOperation is' + self.operation + ' and test is divisible by ' + str(self.test) \n",
    "        s4 = '\\nTrue goes to ' + str(self.true) + ' False goes to ' + str(self.false)\n",
    "        return s1+s2+s3+s4+'\\n'\n",
    "        \n",
    "    def operate_on_item(self, i):\n",
    "        return eval( 'i ' + self.operation )\n",
    "        \n",
    "    def process_turn(self):\n",
    "        toss = {self.true:[], self.false:[]}\n",
    "        for item in self.items:\n",
    "            self.inspect_count += 1\n",
    "            worry = self.operate_on_item(item)\n",
    "            #worry // 3 # part 1\n",
    "            worry %= lcm # part 2\n",
    "            if worry % self.test == 0:\n",
    "                toss[self.true].append(worry)\n",
    "            else:\n",
    "                toss[self.false].append(worry)\n",
    "        self.items = []\n",
    "        return toss\n",
    "    \n",
    "    def add_item(self, list_of_items):\n",
    "        self.items += list_of_items\n",
    "        \n",
    "    def get_inspect_count(self):\n",
    "        return self.inspect_count\n",
    "        \n"
   ]
  },
  {
   "cell_type": "code",
   "execution_count": 171,
   "id": "132aad55-d24e-424e-9dcc-71e1c4c8b5a4",
   "metadata": {},
   "outputs": [
    {
     "data": {
      "application/vnd.jupyter.widget-view+json": {
       "model_id": "d0c1be6f0a6542d78cff46595a27ee3b",
       "version_major": 2,
       "version_minor": 0
      },
      "text/plain": [
       "  0%|          | 0/10000 [00:00<?, ?it/s]"
      ]
     },
     "metadata": {},
     "output_type": "display_data"
    },
    {
     "name": "stdout",
     "output_type": "stream",
     "text": [
      "20  :  61500  |  [67, 79, 104, 192, 195, 197, 246, 250]\n",
      "1000  :  156767850  |  [2249, 2269, 5787, 10498, 10509, 11184, 12310, 12735]\n",
      "2000  :  627406670  |  [4447, 4468, 11659, 21032, 21043, 22459, 24638, 25465]\n",
      "3000  :  1411949637  |  [6645, 6665, 17531, 31566, 31577, 33723, 36963, 38199]\n",
      "4000  :  2510484280  |  [8849, 8869, 23409, 42098, 42109, 44984, 49288, 50935]\n",
      "5000  :  3922782640  |  [11047, 11068, 29281, 52632, 52643, 56259, 61616, 63665]\n",
      "6000  :  5649018459  |  [13245, 13265, 35153, 63166, 63177, 67523, 73941, 76399]\n",
      "7000  :  7689319910  |  [15449, 15469, 41031, 73698, 73709, 78784, 86266, 89135]\n",
      "8000  :  10043379675  |  [17647, 17668, 46902, 84232, 84243, 90059, 98595, 101865]\n",
      "9000  :  12711206481  |  [19845, 19865, 52775, 94766, 94777, 101323, 110919, 114599]\n",
      "10000  :  15693274740  |  [22049, 22069, 58653, 105298, 105309, 112584, 123244, 127335]\n"
     ]
    }
   ],
   "source": [
    "# part one code, correct answer is 56595, part 2 is 15693274740 \n",
    "\n",
    "# parse the inputs\n",
    "bad_monkeys = []\n",
    "lcm = 1\n",
    "\n",
    "for monk in troop:\n",
    "    num = monk[0].split(' ')[1].split(':')[0]\n",
    "    items = []\n",
    "    for i in monk[1].replace(',', '').split(':')[1].split(' ')[1:]:\n",
    "        items.append( int( i ) )\n",
    "    test = int(monk[3].split(' ')[-1])\n",
    "    true = int(monk[4].split(' ')[-1])\n",
    "    false = int(monk[5].split(' ')[-1])\n",
    "    op = monk[2]\n",
    "    lcm *= test   # added for part 2\n",
    "\n",
    "    \n",
    "    bad_monkeys.append( monkey(num, items, test, true, false, op) )\n",
    "    \n",
    "    \n",
    "# evaluate  rounds\n",
    "for i in tqdm(range(1, 10001)):\n",
    "\n",
    "    for m in bad_monkeys:\n",
    "        toss = m.process_turn()\n",
    "        #print(toss)\n",
    "        for to_monkey, stuff in toss.items():\n",
    "            bad_monkeys[to_monkey].add_item(stuff)\n",
    "        \n",
    "    if i ==20 or i%1000== 0:\n",
    "        # calculate monkey_business number\n",
    "        touches = [m.get_inspect_count() for m in bad_monkeys]\n",
    "        touches.sort()\n",
    "\n",
    "        print(i, ' : ', touches[-1]*touches[-2], ' | ', touches)\n",
    "    \n",
    "\n",
    "# part 2, 15693274740 \n",
    "    "
   ]
  }
 ],
 "metadata": {
  "kernelspec": {
   "display_name": "Python 3 (ipykernel)",
   "language": "python",
   "name": "python3"
  },
  "language_info": {
   "codemirror_mode": {
    "name": "ipython",
    "version": 3
   },
   "file_extension": ".py",
   "mimetype": "text/x-python",
   "name": "python",
   "nbconvert_exporter": "python",
   "pygments_lexer": "ipython3",
   "version": "3.10.8"
  }
 },
 "nbformat": 4,
 "nbformat_minor": 5
}
