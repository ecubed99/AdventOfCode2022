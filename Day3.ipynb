{
 "cells": [
  {
   "cell_type": "code",
   "execution_count": 1,
   "id": "c32da5a9-d25f-4c92-8406-961c800dafd1",
   "metadata": {},
   "outputs": [],
   "source": [
    "%matplotlib inline\n",
    "from sympy import symbols, Eq, solve\n",
    "import math\n",
    "from itertools import combinations_with_replacement , permutations, combinations\n",
    "import numpy as np\n",
    "import time\n",
    "import functools\n",
    "from tqdm.notebook import trange, tqdm\n",
    "import ipywidgets as widgets\n",
    "from math import atan, tan\n",
    "import matplotlib.pyplot as plt"
   ]
  },
  {
   "cell_type": "code",
   "execution_count": 29,
   "id": "12748665-3e6b-43e5-ba53-1ac5569e2d67",
   "metadata": {},
   "outputs": [],
   "source": [
    "rucks = ['vJrwpWtwJgWrhcsFMMfFFhFp', 'jqHRNqRjqzjGDLGLrsFMfFZSrLrFZsSL', 'PmmdzqPrVvPwwTWBwg', 'wMqvLMZHhHMvwLHjbvcjnnSBnvTQFn', 'ttgJtRGJQctTZtZT', 'CrZsJsPPZsGzwwsLwLmpwMDw']"
   ]
  },
  {
   "cell_type": "code",
   "execution_count": 35,
   "id": "6aa6b0e2-00a9-4625-97cc-066613298552",
   "metadata": {},
   "outputs": [],
   "source": [
    "rucks =  ['rGnRRccfcCRFDPqNWdwWJWRBdB', 'jZzVVSZSjmQvZTSZfjmLzNPJqWtJBwqpNtBpdWdNvd', 'fZfjlMLVshMFhcHnDG', 'vJRmRfJbfRfJsCpvgLggNVsv', 'zlzSrMPZMgBFFMNMVWsjsF', 'dzBSBlzdcggRGdndnn', 'hNwqVDVDdmQwQPrbDMSSMRSWSM', 'LvnzJJtlcHstlffCVpMSbRMpBMbCgVWM', 'lGvvscLHcfsHtvlsnZmmNGhNFVQqqTdqFd', 'sHGzGsfcZnHfhbLRFrdrhRFf', 'vwVqzSSjSSttjSqgNMqwzSSVCCgRPhPhFLdCRLLrdCRRrDLb', 'vvwwtvvVwSvMQzjvmNtJsHBnsZllmnnTBBcBlTnW', 'pzNVBVplhfLfVfVStZrZHbQHZQTb', 'sdPPJdCjbdQHMTWt', 'ngmJGFjJwJCmGcnJcFtgwcDBNLlqfBpvfBpqllhlfL', 'TGpphMZhJQpGLZTMCCtsBMCSDsStBFcB', 'jdfgHClHrdrbWvWgjqmctSDqltDsFFDFBc', 'dNWWvfgCLzzNNLZz', 'vvHzBrTSvHFbqZqZTBBtzdVfGCGhJSfGJGDSdGMhVG', 'lgmgslssslscsnRlVGWGWGVMRCll', 'pQPsjwnNgQmnNNwQgNLNnmgZqvFqtwqtrMMzvzwFtrqTrr', 'TNhNLTrswwsnFNrrGZVnJnZmVpSjjVDnPp', 'dBlzzCBqgfWMBpPSJDHVZSVP', 'cqzfpcdcNFFGrhcb', 'LLpzCzSzJnLQVnTNhQ', 'vtDqwBcRztQbthtV', 'qZZZqZvvsZwwjvjDjspFlPpSSCslpzPlls', 'rsZVlmStlFZllvmSSvLRqcGMswMMzjMsjqGCjzMG', 'VTPgQBQdBCwgjCnJGC', 'pBNTNHdbdWLrDVLbDmLZ', 'CFmsmwnCRmjCjnCzJZQhhBGQBsMzbP', 'WvltTWVDdNttdlDbbZzJvPJvBBhhzM', 'gHDfTNlDDdgVNdglgfqtpcSFwccCmmwnRSwzzHHF', 'hgmhWgCdzpjPCzFC', 'NVfgffZblZQVNtFZPntPDrJjPt', 'TwbQLLfMgdhswWGH', 'JStSPHPJNrBCtBZMPtHTVfVwLcbbLTcSgfbVfn', 'GdhhCplmdWbVddLV', 'qpFvhQppFRlqmFGppRhqvvFzZtQMHZMzBNBCCzNDHHMPzB', 'MvCMQmJCMDQjwMJCSJpQmDcnGBggfsgljGNslsNGjTHTNf', 'HRPtRRzVWWFhrFdZhTGlTTLLggBLVgGGLf', 'zZhdWZPWRdqttWWRPzRPmcpmpQqvvSCvwHwQmJqD', 'NwrVVWrvwtQDRdRqWbqh', 'jCCZjlJZZGclGPpCJlcCBhJshgqTsQgbDdshTbgLRh', 'ppppflPZlpvfffFzHqFV', 'VmTwGVwnwHnSnqGSVmBBwwmTZvzbCrsNWcsZsqFzCWsbWrNv', 'JMPPgRDPDgghJggtzsMbZvsNCrWcNsbM', 'DhgJllPPJcgJpptDDDPldpmTwjHBmSjBBwmBwHBdBmTQ', 'vblvFHvrQTjqqhCpFwLnFL', 'RDJRWsdRdgdWZMCMQSVppMJpVL', 'DzsgRNNsftWdQmcvbPcfcBfj', 'wTgbsTmgqSbzSlSvFb', 'rNdDdZnRtJFlmVSHZz', 'mfNjjmmdNWhWCsffwC', 'LltBNFLHHcJcfNdNTwbbNsfW', 'vQSMCzQSGdSdvjsTwmwfwWwV', 'nRCSzMCQDqlgdlRJHJ', 'vgqTGwnhpLFsVvrR', 'ZZzTHlTlJNbcLfRtppFzfs', 'PlWBWbjQjJgCDCMPTTGT', 'wtBdWdDpjDdwScBtnsFsPmmnPbPHHPghhh', 'fSSVGVzlTlqGfffLTQMGHsmFsbmPFbsPbhQZFhhs', 'TzLzfqJTVRGvRMvqvLGzMqRfSvcDpNjcjdcwSDBDtBDvSCDj', 'FrdCCzmqFrpDRTRHRLnQJJnr', 'SGfNRWlBZlgtRltGbvnTVbJnSHvLHVbH', 'NRWsfWBwwqwDMDpc', 'vSfsmsdssdjSdZdSgRnmLRGNzgGnqwwB', 'VrlThFPTPjHFDPRqGGnRnNLqqqHG', 'lPtTDVCCDrjppfdSQbcJMsbftv', 'RFFslstRRfSljtsRJPjRtRtngSHbmbbhGbHQQmgbmgGhGQ', 'DqBZdWZvTdMBBTLDzqBhFnvgVhnHHFbnQVnGnb', 'wcwMMMTzZwsjtCtjFN', 'CsscSlwwZDscMNhhpZhRZHRM', 'VjQvjbQvbhJVbvTbnQTnHHLrRFRqqFqFVdMHNHNH', 'QbTjjbtJnvttntjgjJjPDwwsBsSsSlslhlwwPCBS', 'RLjhhBBcNNBNhNjhpwScwSCTFwcFvMwvlc', 'dJqPJqbqtmgmgdPrdgwvDTCSSlMSFDlFTzFg', 'stCCqmbGrrbmPsqZhHhpjjNhfjBnnsnp', 'LfDzcMMVsDLLzNscGhFFcQhlhhBRll', 'ZCbSbwdmwPnPnPmHjdjWFWsWhdGjdH', 'bZnPbvnvqCvJDrLJNssf', 'bbldQHVltHQSSJJmTlwJGjCjCChchgMhHhprCpMv', 'WNPDFfqfzFsBFFnmgjGhgccjpcpgMGrs', 'mZFFzDnmzBBZltdlZSVtZS', 'hdJZZdJTvnJmRphvvpGnwvqzVFSwVlHVlFHFHNlzlgFgHF', 'QWWWBbrCCrtjQsMdcWMBfttHsgFHVHgFSNzDzFlVLggHzz', 'jQdBPCtrtcPcMQCTnqnhTvPGGvnJGR', 'ZhsmsbNVmFssmblMMpdvvQdwLQRppRvQ', 'GjnNNGNCGjfJcqrQDvQQpvQLPpnQQw', 'BJjWqWSCrNHrqjfhlHzlVbVtFmtHTV', 'mtJmPmQBbPFshnJzZpLZ', 'gMqMHRGrCHSvrRGrqPZLnplFzlVhFspL', 'RrDrgMGRDPNtfmDN', 'wqqvqVmlpqchqrDD', 'gzRltSjgFlWshrdngrpPcDcd', 'RRjtsbGfGLbsLWSLtjzGSHNNHmHBwNNHNmNfllwVfl', 'mqFBQgnMQQbJqnTswSMNWGsDswZZ', 'HgzlRzHccfHsfTwSWfNSNf', 'VLldvpHLVHrFJFJgpnQbJn', 'SzCJtLdDCCtqCcdDfZMVMfGVbsVZPPzz', 'wpwWQWjQgwQgjNBwgHQgsGfPfbPsZPGSPjZmrPrV', 'QFwpTwpHlnHFNFWQWlQgNwNLCddvDShtLJnSJCLqJJttDt', 'HMgCVHggtqMMvjgNjNCMMwfWfPwWPJQQNzWwJzlQlQ', 'bGFrqrFGZLLdFmSPcmPzQJlQcWzJmJ', 'hRphhShnLGFdGSFSLRGrdqdqsjTtsBTVTTBnVjVvHHBtHggt', 'hHhnFHQpcFcHjcjfZfZRnjjnNNBvNNNtwvNtbwPtNcPtBgbg', 'zzVLWCHLSdCttbvw', 'mMLsHDMVFlRhhmhm', 'MHMgBNQQPCMMQBbBQQgJHbWttdlfWpZJVWtGGztfWJZW', 'nvLzDTDFDFqSqncTFddLGfWfssVWWVdlGs', 'njScSmcnFDDhnmcmnSBzMggjjMQrQCjBQrwH', 'MFVFHqhHHfVVSGcVQCLttttWTtLQ', 'BgdJJrJzbGpLssCtTLLCpC', 'PGBGdjjllBGBjhmhHRlmSfhRDF', 'BLJmWwBJDDmLDFnVPzvTttvNhNFsHhvvQH', 'cjbSqfWbRrbSzNMjhtNzzTsT', 'dRdbgflfqmWggGmwWW', 'lBTTnDMnNwWdpwMllTMDdTBTSRJjRRcSJRhRGhwtccScgjtg', 'vvsnCVnHHnsvPzLfVJjtShgGJGVJSc', 'zQQvzCZbsnbHCWMdFpMqblBqND', 'CLggQjStSQjLgVRfhBRztwpBpt', 'DNVmJDFcGNGlmNDnGFnsGcDdwzzZwZPsBPZZhhfBTpwhPfZh', 'DMDccrnrdnDJcJGFGmCqbLvQqHVSSQVMCgHV', 'rZVNNDrCFCbjbRSgjhZv', 'czcMTcGMlcjjvvvGdhbb', 'pHMpHtLWHHHztMzsvqvnVqNvsnNDqW', 'hPhPBQVjzjQScjChRVVVsdfbvdmvvpGmvfdbff', 'nwZwZWNTrwLTTDtbfmHDpGccstDv', 'FLFJNllFrwTgTwNLnwTlFPhcjjhRhSMSjjBPhzJPQq', 'CgJCHgJfHzGrrMjJpl', 'SWqQLSQqdFSLrrCSZrvpzjMM', 'QLWqhFLQdwFqnPbHcCHPbhCh', 'jLplfcfjQfptPtLTTtPrRqCCCjZvhBhwhDjwhBBBqC', 'msznRWgSmmHbSJwDvvBqCCqWFF', 'mzdsVnbbSSznmbGgGSmTclPcrQffdLfMTLRLtl', 'PpQQFdNFBtdsFNNPPthTtldwGMnZVvmbbVGbMwrGvG', 'wHWRJDjHHRgJDZlmVZmnvDbDDM', 'JqJfgRWLSqWJfcsBfwPpPwFpNwfC', 'SjpVgjghVZvssgsHjQfHcfcnfNcnbqcRbr', 'WBtNWTWNJnCTCbRbQR', 'FlWGtwPJmJPBmwFtMGmpNhDSSSgZhSszzghsMD', 'fSfzvQSbbSSSTQQzDQTzHsqHmjHVFsjqVJsbrrLs', 'GWZncGGdBwlPGPJcGlBcPgNGqLqmjsHMVLrrVMwjsMMssLmr', 'ltGWNggZJnCRhDtzvtTt', 'zzSHMgsPWzLSJQMMWQWLJBLVqcmVrzmvcpFcqmqpmFprFV', 'TlDnwhDblbnbbtbjdpVCrmFVDgmprcRCcF', 'hTdjgdldgdfZWWGGHQJHWZQH', 'TZVsSRGsGMGWZTvpmrgcMCmrwwFFgF', 'BDPPnDDLDqDFLNLgctLNrm', 'PzDPfHPdDPdJPfdHJqdbnnSVvRvsjZSvbsrRGhvGRhTG', 'nnghnhLhgdVqSPLHcPHPNtpmrRptNt', 'DwvMWlsJlGzsGMlvsZcWWbRrNHNtZtHttHNTNttTrTTR', 'DDzDcwlWWGlcsszGwBCggFqgghCBfqCFdhSh', 'GzgQpJnwgJfbSWpSvqtvlBtmSLmLlvLS', 'zCHsRZjHdzVPRFNlLlvtlNMNNrtDrt', 'zzZVsCcCCHzRhcbpwGJGGpcf', 'lVQMrwlMwwMCBZmFtthmVmsgWhTL', 'bdzHSSFJcvzcpFDptsDDmhTgLmnmmmhT', 'SFpcGvdpddvGlBPZMCGrBZ', 'QmQTQTFTSQPNbsPjPnntZjjnnDlBBB', 'JHqJqhfCJpWfpHchRzzCnGBjtjDZltsZpljGntrr', 'chdMHqHcMhWMfRczMJmmQsVTSNbNNFbdQNST', 'HHdFqqDRdNsHfNRsjWPCBcCCZPwDCZVBVc', 'lhlgprMrlprbplzwZQPwwPjbZZCPwP', 'lpljllTGGGglhThpjSvdssSnfRRTdRnvsN', 'sDzjCqLLzddjsdRsSShgmtnCgFnmnffmmFcf', 'rJbqJMTqJGVTrgnFmfhcfmnJgm', 'GQbBWZGbVrqpqWpZZHlwDsDsRsdDlDRDBDsD', 'LbLbvbhQgblwwqbjGG', 'cFTTMsczJsTWJFfNNlVqvDqjNvlFqZ', 'mfMvJHvmdLgLRgpHRR', 'cvhRpWWhpfpcTpWvRcRcWVNwsjNLJFsJjwLtMLdsdsLJjL', 'ZZPqGqgZrllbbVMtnJtllwJtltnj', 'rrPCSQHbbrSqHqqZGGQbvzBVTpfzmvBvcvRCTpzT', 'VMzNNhWVlrbJHbjcJCjCSR', 'qgtDBgBtTGjqJvSPRJHCqHcd', 'GfnfLjjgGLmgBWpWrMMnzWZppl', 'zRtfBftCvvPSvPclZgcgJznWcgnq', 'dDpGpVdwdGphbDMpdQhnJjjqnZQWnZNcNWlqlJ', 'wdFdTDpGDSCmTtRqRq', 'bTGrRzjbmbmqsGDDjHPpWpfjHJZFVPJp', 'LwdwNNgMLfZTdCHPPd', 'lhtwtvttgnchcsrvmzTvmsTbbm', 'dfLjdlqLtqpbpPQpHS', 'ZGJnFZFDpBWWGBTzzrhmhHzHQPFPvQ', 'NgJGGGNGnJWgMDWGgDpWnZWgwdRCtwCCRVLdjwVcccdwct', 'MMtzRCTnVVnHbbMNrHMRRVQJFrPPDsrsJgjjQGJGpFFF', 'ZcqWqdfcmfhwDgGpDJmmQDQs', 'LhwBddvlddvdLCgCtCTzgzMN', 'ZffpWcfPcPrTwlVCvDhhcS', 'GMLBNHjMBGtmjtMQMJjLHTwwsSswdslhGwDhsDvCvV', 'tQgNRHMHQggHjQttbZqfFqrnqSZWfPZR', 'MDqbPdqGfwGbfMswqfJdPGgQpCZvQgmvJFCmQJQvRCQv', 'WFthczzzrpWgpHlRRC', 'BhLSFnFrcLzhtSFnSTznhGbMGwjGwjjPbGDqjdqTMd', 'zbQdJbBPTsWcCgdmfC', 'DNqZHjvwZMShDhwqvLmlgVnLmcnsfnVf', 'HHSFSjNZFqjZrhQpPtzrBgQzPrpB', 'BzzJHvJJvWsgzPPTWPSJsJgNtmMtNFlvNZFltFtttjmtVZ', 'cbccGnqhwhdpqRnnrdqdntZVFfMCltMtGFCmtFNFlj', 'wnlRRQbnpHQWHgSQTs', 'SQQBFnPzSnQVSzFSWlzlBSWFMsqmMmzLLChTmmMqzsTChmss', 'ZgdwrJdtJrgpcCwZNbbjsGhGDvMrrqmmMmDhTsqv', 'NtRZwCbZbbjRZNJcRbjWVWPnWHQWVPBQnHlfRB', 'jLtlpljLpsbRnDNtBpbjdqWcqChccbhqChqbWQbQ', 'gVwwggvJJwBqgWqfBCgT', 'VHZrPSHwzSwvDLnnLlsrDRBp', 'GBDGDrhwVrFhVCVBvhhvwBDVcmlfcPcMMmmmqNTScNNNflSF', 'RzRLRbddjZTbTQjJSWNzlNWNcPqNWqSf', 'dHjRgddHnZngjHLnQsgZHbGrrVpwpTtThnDBppVCTpDp', 'dpjwvdLwtvJszhmzhRVj', 'QfFQrffPBCBZMQrMRWzmzmVWVghVLs', 'GBPGBrFrHZTBSTqvvLNtqSpq', 'zFcGnQcZPZncbbbhPncpNCwzvwmjMvwwmwmpvd', 'tBRtdrRTJNvRjMMwRC', 'rlWSqVtTHqtVTrngQnfbQFdcghgW', 'RMjfvsbQPvvNpLmLprFJFrFJJT', 'SqCtGCcZZCwcCqqcGdWGdSZmMTmnVBdLnTTgTrMgrgVLTB', 'lGzGzHSCzHctsQRMsQPzDjNs', 'FQTWdTVMDWWVWFDTFcVcWJqTlCCCSlFmtCmNZStsmFmCwCgm', 'nPLbGZzrgwBlbBlS', 'PppGRnzPnpzvZVDJVvTfDVVVdD', 'CQlDsWWfflWDMMhRmTGqFwSjJFdqwSQJzF', 'PgpVbZPcHgBcgZrBZcHNTTbdqTGjSqFjRFjwSjGG', 'VvgRBBNLRrPhsfhLWLWDtW', 'hHhZDcDcPZWpLZWpCQ', 'pbqdwmbqqmBpdMsgdqjCGvfCWGTWLGmWfGQtVt', 'wjjbsFBRbwFgMpDznPDrrFcShr', 'zGmsJQsDBBmDDJJpRZzSqZZPRffWRSqh', 'LQlVHjCCNCLRSgWlZnhPZW', 'bLtHCHtjVHQDTJcGDQbs', 'QPRlnHfPllgRfnqhcwgwGMGzBWzBBBBB', 'LCtVCZtDbdttjZFtvjvdDMGGBmBWWZWBBWGSsWJSJm', 'dFVNTVbTjMnHlThHnpHR', 'hGhZLlqmqZWTcWrmWqrWmTrqjQVQwNHPgPwPPSgPjNwVSLjD', 'bsMJBRMvRsvsJMRRbspFgQwSNNSNwVNjgwDMDgHH', 'pFnFtvCQFsbBQzsBrmnTWchWZqWqWqGZ', 'wpwlJdCWJWdzlWGRRcrDrwRqrqDFrF', 'ZmPsSVnnTvmHDgFcDTHFTF', 'smVvnSQhbsNsvsmsnQQclzGCWpphppLJCdJWBpll', 'FfSmMJmBDfBjDSjFtBVmftBQPwPhPCbhQvbhwCCbvhhjhq', 'ZnZHZgclJWNbwbcbcwPrQv', 'ZNNGLHzHNZTTJnlFFfVmDBsFSVLdSD', 'DDBvjMvBJMtWjNRNrvdtbshTdpssdPSgpFpP', 'LwGQcwLGJTSssQbg', 'wcfcCcmHfJmcLLVZVqBBBqWDRqBRDWzHNN', 'LhnpcdcdrChplvllHptlgR', 'TsSTSBqPBTGNzqGfzfffGfVtPlHHvMDtHtRMlvjHHgtv', 'sBfWNGQmQbCgQhQn', 'pnnHngqsRjstjRgtrBDlBwDgwDZBldlD', 'SFvJMGhhvcbMSWPJbFzVDdzDZwDFlFlzfFBV', 'JJNWGSWSMNMCPhcvMhGStwtjtRRtRRqRsCtQjqRj', 'nQZfJswFffjJplqhlqZlVVhp', 'vtdCvGdBCzVHgnzLDlpL', 'BbCTGvtGnBBCPjrsccjrwbrFjj', 'wjjvDQwWvSQDLbwfNrrJcMHrczcpWN', 'tTnqlRsTRthFhnnpfNrmcTNMzfCzHr', 'slsBGVlqghMRhsRlltsFDgQSDbQwPSPLQSZjPSLQ', 'PcQmmQRQZRFQPjjDWhgCgWdM', 'nBGtbGNBBGvJbbtpWhCNCjmMjHlWHDdM', 'vbBnBBrrvVBtJJbvtzzptRQLLZLRFfqLSTSfzqwfqm', 'PBFZDFPsDZBnTTBdDHSNSpNzmVTVmVGlNH', 'WvqFLWQCMQLMRtQJFWQLvQCJVzmNjNzVCllVmGSlNHlVzljH', 'WRtrhtWQWFbrrBwBZrbn', 'MwWnMPnMPNswjPDvRbsblCGFZGZF', 'JdJVVVtLdgZhvGVBDZhZ', 'rqmdqtgcLQLTfWffwGGmmp', 'QQhhWzQWsMhZjbbmffgfjrGDdfdGvv', 'HnCJVHcnnHttCRVRCcnBCqJBGfPmTvTvdDfvqfrddNDDggGG', 'wBwwcRBBCJpFcFcpnVVFQWQLSLbQZLmhzshMlMwQ', 'CgDNbsDcHjTcgDCgjRHMJrlHFrBHFmrttrGGtFwG', 'VfQJnvJdhvSJZphSzWpvSzZSltGGBllGBqPPFPrwrmfqtFFB', 'VJLvdQhphhQnjLsjDDjDcRbL', 'LjljTPdLdccLhcMZhTTMdzrrtzGgtvrgnttNDGrWtDgn', 'hbCmCHqHmSbRgNrtvCgGgttN', 'SJFJRFpHqwSFSpsHwbHwRhSJPTjMMMPdPlPLcVQscLVQQVlL', 'QmTTQVqrVrMvbCwLczbRlQ', 'sSNtNGZFjBSsjSSShcRvwCFLlzWcWRzCWv', 'LLNjZhSGZBnjhJjjrrTgPqgPgTfqfJpf', 'DCCjDDtHVptCtvMZlJbSnScWWfHlhW', 'qsTFmTgmqRRLswQGmfWwSnZSSfJSSWZcWb', 'dsmqgqdsNgTFLFRLGmRpBtBDtDNVpPCCfVrtpD', 'LLNRhHhRbsNGjqCBPBrLCw', 'lgcFfvWGTllzfJVVFVWDzFqqMrZCMBrZZqvSrCPZSSrr', 'fFGGlTTTlzWQGzzDFttQmHnpnhtmmpRssm', 'LZNnBgtlNZztzmGHmpHHPPPm', 'QwjjQRCQScbFFFchhFrFjwmsNPHSSWJGsGppMSWMmWqs', 'dQCwwbwhrjQQjCwRwbhRBlDDfBtVlnNnlgLdnvvd', 'wRbGbqqGCwnGTRqBqlMVphpgMgMFdnFVnt', 'cgzvssscgHJVdhDdhDMvDM', 'PjcZcsJrJHWgrPBQmCqRBPSSRCSb', 'rHBmLlPLlTzztvRtGsVL', 'NWJJWWjJDJWWhphqwCFCwzvRVcgRtctRgNNVVscsGc', 'hqCCsnCpCDnbCnWhwpbHbBHmMBMMmdPrZfdP', 'GRPprPQdsprGpGgGTlqfVqnZLgnLnwNZLw', 'CCWJMMvhhCvthtCjvDWFjMcCVZJLNnfqnllwzlzNnzzwVNnN', 'cDtZFjDjcMCDDtZFSMCvvDpmsmSRRpmmbSpdPRdTmTsp', 'mmPpsbZZbbzvzgbrZRPgPMWqtHtqDnGCnMWCDwGHwtwW', 'cBFBNNccsTLjJjfcjfGDGQtWwFCnCGtqCCQH', 'TNsTLJlffdldzvrmbmrPzp']"
   ]
  },
  {
   "cell_type": "code",
   "execution_count": 43,
   "id": "ea859ee6-98fa-4dd4-879b-9ca3e252868e",
   "metadata": {},
   "outputs": [
    {
     "name": "stdout",
     "output_type": "stream",
     "text": [
      "{'a': 1, 'b': 2, 'c': 3, 'd': 4, 'e': 5, 'f': 6, 'g': 7, 'h': 8, 'i': 9, 'j': 10, 'k': 11, 'l': 12, 'm': 13, 'n': 14, 'o': 15, 'p': 16, 'q': 17, 'r': 18, 's': 19, 't': 20, 'u': 21, 'v': 22, 'w': 23, 'x': 24, 'y': 25, 'z': 26, 'A': 27, 'B': 28, 'C': 29, 'D': 30, 'E': 31, 'F': 32, 'G': 33, 'H': 34, 'I': 35, 'J': 36, 'K': 37, 'L': 38, 'M': 39, 'N': 40, 'O': 41, 'P': 42, 'Q': 43, 'R': 44, 'S': 45, 'T': 46, 'U': 47, 'V': 48, 'W': 49, 'X': 50, 'Y': 51, 'Z': 52}\n"
     ]
    }
   ],
   "source": [
    "# generate priorities lookup\n",
    "\n",
    "chrs = [chr(ord('a')+i) for i in range(0, 26)] + [chr(ord('A')+i) for i in range(0, 26)]\n",
    "ints = [i for i in range(1, 53)]\n",
    "\n",
    "priorities = dict(zip(chrs, ints))\n",
    "\n",
    "print(priorities)"
   ]
  },
  {
   "cell_type": "code",
   "execution_count": 41,
   "id": "9721798b-6a1c-4cf9-a25d-f6d019857758",
   "metadata": {},
   "outputs": [
    {
     "data": {
      "text/plain": [
       "'p'"
      ]
     },
     "execution_count": 41,
     "metadata": {},
     "output_type": "execute_result"
    }
   ],
   "source": [
    "# testing out with single string\n",
    "\n",
    "s = 'vJrwpWtwJgWrhcsFMMfFFhFp'\n",
    "mid = len(s)//2\n",
    "compartment1 = set(s[:mid])\n",
    "compartment2 = set(s[mid:])\n",
    "shared = compartment1.intersection(compartment2).pop()\n",
    "\n",
    "shared\n"
   ]
  },
  {
   "cell_type": "code",
   "execution_count": 28,
   "id": "e857581f-d17a-4830-bc9b-34c50c9f41df",
   "metadata": {},
   "outputs": [
    {
     "name": "stdout",
     "output_type": "stream",
     "text": [
      "7826\n"
     ]
    }
   ],
   "source": [
    "# solution to problem 1\n",
    "runningTotal = 0\n",
    "\n",
    "for s in rucks:\n",
    "    mid = len(s)//2\n",
    "    compartment1 = set(s[:mid])\n",
    "    compartment2 = set(s[mid:])\n",
    "    shared = compartment1.intersection(compartment2).pop()\n",
    "    runningTotal += priorities[shared]\n",
    "    \n",
    "print(runningTotal)\n",
    "    "
   ]
  },
  {
   "cell_type": "code",
   "execution_count": null,
   "id": "eebb7f46-edbb-4ca1-8137-941744ffc6f5",
   "metadata": {},
   "outputs": [
    {
     "name": "stdout",
     "output_type": "stream",
     "text": [
      "2577\n"
     ]
    }
   ],
   "source": [
    "# solution to problem 2\n",
    "\n",
    "runningTotal = 0\n",
    "\n",
    "for i in range(0, len(rucks), 3):       # tried to do more pythonic for r1,r2,r3 in ... but was very hard to read\n",
    "    r1 = set(rucks[i])\n",
    "    r2 = set(rucks[i+1])\n",
    "    r3 = set(rucks[i+2])\n",
    "    \n",
    "    shared = (r1.intersection(r2, r3)).pop()\n",
    "    \n",
    "    runningTotal += priorities[shared]\n",
    "    \n",
    "print(runningTotal)\n",
    "    "
   ]
  }
 ],
 "metadata": {
  "kernelspec": {
   "display_name": "Python 3 (ipykernel)",
   "language": "python",
   "name": "python3"
  },
  "language_info": {
   "codemirror_mode": {
    "name": "ipython",
    "version": 3
   },
   "file_extension": ".py",
   "mimetype": "text/x-python",
   "name": "python",
   "nbconvert_exporter": "python",
   "pygments_lexer": "ipython3",
   "version": "3.10.8"
  }
 },
 "nbformat": 4,
 "nbformat_minor": 5
}
