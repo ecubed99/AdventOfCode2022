{
 "cells": [
  {
   "cell_type": "code",
   "execution_count": 2,
   "id": "980f034e-2ca7-453d-858f-8ba167f84349",
   "metadata": {},
   "outputs": [],
   "source": [
    "# handy imports to have\n",
    "%matplotlib inline\n",
    "from sympy import symbols, Eq, solve\n",
    "import math\n",
    "from itertools import combinations_with_replacement , permutations, combinations, count\n",
    "import numpy as np\n",
    "import time\n",
    "import functools\n",
    "from tqdm.notebook import trange, tqdm\n",
    "import ipywidgets as widgets\n",
    "import matplotlib.pyplot as plt\n",
    "from collections import Counter, deque\n",
    "import more_itertools as mit\n",
    "import string"
   ]
  },
  {
   "cell_type": "code",
   "execution_count": 124,
   "id": "1d16a468-452e-44e2-a29d-53d4796dc31b",
   "metadata": {},
   "outputs": [],
   "source": [
    "# example inputs\n",
    "in_map = ['Sabqponm', 'abcryxxl', 'accszExk', 'acctuvwj', 'abdefghi']"
   ]
  },
  {
   "cell_type": "code",
   "execution_count": 126,
   "id": "a318ba5d-bc11-4f02-8b1a-996891600dc7",
   "metadata": {},
   "outputs": [],
   "source": [
    "# problem input: Part1 ans 412, part 2 ans: 402\n",
    "in_map = ['abacccaaaacccccccccccaaaaaacccccaaaaaaccccaaacccccccccccccccccccccccccccccccccccccccccccaaaaa', 'abaaccaaaacccccccccccaaaaaaccccccaaaaaaaaaaaaaccccccccccccccccccccccccccccccccccccccccccaaaaa', 'abaaccaaaacccccccccccaaaaacccccaaaaaaaaaaaaaaaccccccccccccccccccccccccccccccccccccccccccaaaaa', 'abccccccccccccccccccccaaaaacccaaaaaaaaaaaaaaaacccccccccccccccccccccccccccaaaccccccccccccaaaaa', 'abccccccccccccccccccccaacaacccaaaaaaaaccaaaaaccccccccccccccccccccccccccccaaaccccccccccccaccaa', 'abcccccccccccccaacccaaaccccccaaaaaaaaaccaaaaaccccccccccccccccccccccccccccccacccccccccccccccca', 'abcccccccccccaaaaaaccaaaccacccccaaaaaaacccccccccccccccccccccccccciiiicccccccddddddccccccccccc', 'abcccccccccccaaaaaaccaaaaaaaccccaaaaaacccccaacccccccaaaccccccccciiiiiiiicccdddddddddacaaccccc', 'abccccccccccccaaaaaaaaaaaaacccccaaaaaaacaaaacccccccaaaacccccccchhiiiiiiiiicddddddddddaaaccccc', 'abcccccccccccaaaaaaaaaaaaaacccccccaaacccaaaaaacccccaaaaccccccchhhipppppiiiijjjjjjjddddaaccccc', 'abcccccccccccaaaaaaaaaaaaaaccccccccccccccaaaaaccccccaaaccccccchhhpppppppiijjjjjjjjjddeeaccccc', 'abcccccccccccccccccaaaaaaaacccccccccccccaaaaaccccccccccccccccchhppppppppppjjqqqjjjjjeeeaacccc', 'abccccccccccccccccccaaaaaaaacccccccccccccccaacccccccccccccccchhhpppuuuupppqqqqqqqjjjeeeaacccc', 'abcccccccccccccccccccaacccacccccccccccccccccccccccccccccccccchhhopuuuuuuppqqqqqqqjjjeeecccccc', 'abacccccccccccccaaacaaaccccccccccccccccccccccccccccaaccccccchhhhoouuuuuuuqvvvvvqqqjkeeecccccc', 'abaccccccccccccaaaaaacccccaaccccccccccccccccccccccaaaccccccchhhooouuuxxxuvvvvvvqqqkkeeecccccc', 'abaccccccccccccaaaaaacccaaaaaaccccccccccccccccccaaaaaaaaccchhhhooouuxxxxuvyyyvvqqqkkeeecccccc', 'abcccccccccccccaaaaacccaaaaaaaccccccccccccccccccaaaaaaaaccjjhooooouuxxxxyyyyyvvqqqkkeeecccccc', 'abccccccccccccccaaaaaacaaaaaaaccccccccaaaccccccccaaaaaaccjjjooootuuuxxxxyyyyyvvqqkkkeeecccccc', 'abccccccccccccccaaaaaaaaaaaaacccccccccaaaacccccccaaaaaacjjjooootttuxxxxxyyyyvvrrrkkkeeecccccc', 'SbccccccccccccccccccaaaaaaaaacccccccccaaaacccccccaaaaaacjjjoootttxxxEzzzzyyvvvrrrkkkfffcccccc', 'abcccccccccccaaacccccaaaaaaacaaaccccccaaaccccccccaaccaacjjjoootttxxxxxyyyyyyvvvrrkkkfffcccccc', 'abcccccccccaaaaaacccaaaaaacccaaacacccaacccccccccccccccccjjjoootttxxxxyxyyyyyywvvrrkkkfffccccc', 'abcccccccccaaaaaacccaaaaaaaaaaaaaaaccaaacaaacccccaacccccjjjnnnttttxxxxyyyyyyywwwrrkkkfffccccc', 'abcaacacccccaaaaacccaaacaaaaaaaaaaaccaaaaaaacccccaacaaacjjjnnnntttttxxyywwwwwwwwrrrlkfffccccc', 'abcaaaaccccaaaaacccccccccaacaaaaaaccccaaaaaacccccaaaaacccjjjnnnnnttttwwywwwwwwwrrrrllfffccccc', 'abaaaaaccccaaaaaccccccaaaaaccaaaaacaaaaaaaaccccaaaaaaccccjjjjinnnntttwwwwwsssrrrrrllllffccccc', 'abaaaaaaccccccccccccccaaaaacaaaaaacaaaaaaaaacccaaaaaaacccciiiiinnnntswwwwssssrrrrrlllfffccccc', 'abacaaaaccccccccccccccaaaaaacaaccccaaaaaaaaaaccccaaaaaaccccciiiinnnssswwsssssllllllllfffccccc', 'abccaaccccccccccccccccaaaaaaccccccccccaaacaaaccccaaccaacccccciiiinnsssssssmmllllllllfffaacccc', 'abccccccccccccccccccccaaaaaaccccccccccaaaccccccccaaccccccccccciiinnmsssssmmmmlllllgggffaacccc', 'abcccccccccccccccaccccccaaacccccccccccaaccccccccccccccccccccccciiimmmsssmmmmmgggggggggaaacccc', 'abcccccccccaaaaaaaaccccccccccccccccccccccccccccaaaaaccccccccccciiimmmmmmmmmgggggggggaaacccccc', 'abccccccccccaaaaaaccccccccccccccccccaacccccccccaaaaacccccccccccciiimmmmmmmhhggggcaaaaaaaccccc', 'abccccccccccaaaaaacccccccccccccccccaacccccccccaaaaaacccccccccccciihhmmmmhhhhgccccccccaacccccc', 'abccccaacaaaaaaaaaaccccccccccccccccaaaccccccccaaaaaaccccccccccccchhhhhhhhhhhaaccccccccccccccc', 'abccccaaaaaaaaaaaaaaccccccccccaaccaaaaccccccccaaaaaacccaaacccccccchhhhhhhhaaaaccccccccccccccc', 'abcccaaaaaaaaaaaaaaaccccccccaaaaaacaaaacacaccccaaaccccaaaacccccccccchhhhccccaaccccccccccaaaca', 'abcccaaaaaacacaaacccccccccccaaaaaaaaaaaaaaacccccccccccaaaacccccccccccaaaccccccccccccccccaaaaa', 'abcccccaaaacccaaaccccccccccaaaaaaaaaaaaaaaaccccccccccccaaacccccccccccaaacccccccccccccccccaaaa', 'abcccccaacccccaacccccccccccaaaaaaaaaaaaaccccccccccccccccccccccccccccccccccccccccccccccccaaaaa']"
   ]
  },
  {
   "cell_type": "code",
   "execution_count": 127,
   "id": "b74e0f73-3b48-400d-9786-ccaf7de2558b",
   "metadata": {},
   "outputs": [
    {
     "name": "stdout",
     "output_type": "stream",
     "text": [
      "(20, 0) (20, 68)\n"
     ]
    }
   ],
   "source": [
    "#process the inputs\n",
    "y_max = len(in_map)\n",
    "x_max = len(in_map[0])\n",
    "max_steps = y_max*x_max+2   # value higher than any possible traversal of the map\n",
    "start = ()\n",
    "end = ()\n",
    "\n",
    "conversions = {c:i for i,c in enumerate(string.ascii_lowercase, start=1)}\n",
    "conversions['S'] = 1\n",
    "conversions['E'] = 26\n",
    "\n",
    "height_map = [[] for i in range(0, y_max)]\n",
    "step_counts = [[] for i in range(0, y_max)]\n",
    "\n",
    "for i in range(0, y_max):\n",
    "    height_map[i] = [0 for i in range(0, x_max)]\n",
    "    step_counts[i] = [max_steps for i in range(0, x_max)]\n",
    "\n",
    "for y, line in enumerate(in_map):\n",
    "    for x, c in enumerate(line):\n",
    "        height_map[y][x] = conversions[c]\n",
    "        if c == 'S':\n",
    "            start = (y, x)\n",
    "        elif c == 'E':\n",
    "            end = (y, x)\n",
    "            \n",
    "endy, endx = end\n",
    "starty, startx = start\n",
    "            \n",
    "step_counts[endy][endx] = 0\n",
    "    \n",
    "print( start, end)\n",
    "\n",
    "if y_max < 20:\n",
    "    for h in height_map:\n",
    "        print(h)\n",
    "\n",
    "    print('steps:')\n",
    "    for s in step_counts:\n",
    "        print(s)\n",
    "    \n",
    "    \n"
   ]
  },
  {
   "cell_type": "code",
   "execution_count": null,
   "id": "fa8fdf49-3f48-4675-a807-715d96f1750f",
   "metadata": {},
   "outputs": [],
   "source": []
  },
  {
   "cell_type": "code",
   "execution_count": 122,
   "id": "3a4b75f0-7397-4ca5-b8e6-e94a5f51d743",
   "metadata": {},
   "outputs": [
    {
     "data": {
      "text/plain": [
       "True"
      ]
     },
     "execution_count": 122,
     "metadata": {},
     "output_type": "execute_result"
    }
   ],
   "source": [
    "def can_reach(starty, startx, endy, endx):\n",
    "    if height_map[endy][endx] - height_map[starty][startx] <= 1:\n",
    "        return True\n",
    "    return False\n",
    "\n",
    "can_reach(0, 3, 0, 2)"
   ]
  },
  {
   "cell_type": "code",
   "execution_count": 128,
   "id": "b4f01898-26d1-4ec9-bb59-7b30eec720cd",
   "metadata": {},
   "outputs": [],
   "source": [
    "def process_coord_from_endpoint(y, x):\n",
    "    \n",
    "    opts = ((0, 1), (1,0), (-1,0), (0,-1))\n",
    "    my_steps = step_counts[y][x]\n",
    "    next_possibles = []\n",
    "\n",
    "    for dy, dx in opts:\n",
    "        test_x = x + dx\n",
    "        test_y = y + dy\n",
    "        if (0 <= test_x < x_max) and (0 <= test_y < y_max):\n",
    "            if can_reach(test_y, test_x, y, x):\n",
    "                if step_counts[test_y][test_x] > my_steps+1:\n",
    "                    step_counts[test_y][test_x] = my_steps+1\n",
    "                    next_possibles.append( (test_y, test_x) )\n",
    "\n",
    "    for ny, nx in next_possibles:\n",
    "        assert 0 <= nx < x_max and 0 <= ny < y_max\n",
    "        process_coord_from_endpoint(ny, nx)\n",
    "\n",
    "        "
   ]
  },
  {
   "cell_type": "code",
   "execution_count": 129,
   "id": "56460b2c-5bb9-4f33-9745-ce4d1248ebc5",
   "metadata": {},
   "outputs": [
    {
     "name": "stdout",
     "output_type": "stream",
     "text": [
      "412\n"
     ]
    }
   ],
   "source": [
    "process_coord_from_endpoint(endy, endx)\n",
    "print(step_counts[starty][startx])"
   ]
  },
  {
   "cell_type": "code",
   "execution_count": 130,
   "id": "42616438-c1d8-40f0-859b-6214ef2510f0",
   "metadata": {},
   "outputs": [
    {
     "name": "stdout",
     "output_type": "stream",
     "text": [
      "402\n"
     ]
    }
   ],
   "source": [
    "# solve part 2, using the map already generated from part 1\n",
    "minimum = max_steps\n",
    "\n",
    "for i in range(0, y_max):\n",
    "    for j in range(0, x_max):\n",
    "        if height_map[i][j] == 1:\n",
    "            if step_counts[i][j] < minimum:\n",
    "                minimum = step_counts[i][j]\n",
    "                \n",
    "print(minimum)"
   ]
  }
 ],
 "metadata": {
  "kernelspec": {
   "display_name": "Python 3 (ipykernel)",
   "language": "python",
   "name": "python3"
  },
  "language_info": {
   "codemirror_mode": {
    "name": "ipython",
    "version": 3
   },
   "file_extension": ".py",
   "mimetype": "text/x-python",
   "name": "python",
   "nbconvert_exporter": "python",
   "pygments_lexer": "ipython3",
   "version": "3.10.8"
  }
 },
 "nbformat": 4,
 "nbformat_minor": 5
}
