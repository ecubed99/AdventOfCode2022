{
 "cells": [
  {
   "cell_type": "code",
   "execution_count": 1,
   "id": "6b695ebe-fc4a-42b5-ac00-56af27ac2c92",
   "metadata": {},
   "outputs": [],
   "source": [
    "%matplotlib inline\n",
    "from sympy import symbols, Eq, solve\n",
    "import math\n",
    "from itertools import combinations_with_replacement , permutations, combinations, count, chain\n",
    "import numpy as np\n",
    "import time\n",
    "import functools\n",
    "from tqdm.notebook import trange, tqdm\n",
    "import ipywidgets as widgets\n",
    "import matplotlib.pyplot as plt\n",
    "from collections import Counter, deque\n",
    "import more_itertools as mit\n",
    "import string\n",
    "import ast\n",
    "import networkx as nx\n",
    "import pyvista\n",
    "import plotly.graph_objects as go\n",
    "from IPython.display import display\n",
    "import operator\n",
    "import re\n",
    "from typing import TypeVar, Iterable, Tuple"
   ]
  },
  {
   "cell_type": "code",
   "execution_count": null,
   "id": "0cdd7694-1363-4dd6-9108-bfb577b7fe1f",
   "metadata": {},
   "outputs": [],
   "source": []
  },
  {
   "cell_type": "code",
   "execution_count": 2,
   "id": "f5a39c2d-29cf-42d9-8640-6f2c4baadbb0",
   "metadata": {},
   "outputs": [],
   "source": [
    "sample_encoded = ['1=-0-2', '12111', '2=0=', '21', '2=01', '111', '20012', '112', '1=-1=', '1-12', '12', '1=', '122']\n",
    "sample_decoded = [1747, 906, 198, 11, 201, 31, 1257, 32, 353, 107, 7, 3, 37]"
   ]
  },
  {
   "cell_type": "code",
   "execution_count": 26,
   "id": "6a5dea03-860b-4ca6-8c03-6ddf3cd5323a",
   "metadata": {},
   "outputs": [],
   "source": [
    "# problem inpout. Part 1 = 2=01-0-2-0=-0==-1=01\n",
    "problem_input = ['121=0=-', '1==02020022=', '1==2==20--2==', '1-11-', '1==02=2=02=-1-00-=0', '1011=-=--00', '22-1-1=0--0=', '1-=121-00=', '1=1=-=10====10', '1=-=-21002-2=--', '211-2=2=-', '1=-1=10', '11221', '2-21-20', '1-0-', '12221=0-0-1=', '101-022121111-', '11=01-==0211', '1-2-00-=--11', '1=-12=-=-2=1==02', '1=-0111===202', '20011', '2=22', '1=2=12-===-=', '202=-2201=-2=', '2=-0221', '10=20-=2=--', '1=01202=', '202', '12211=222=', '2=1=1-0211-=0=', '1-10', '112=211112', '11==-100-', '1=21220=-122--2-2-', '11-220', '122=1110220==1', '1=1-2210-21-=120102', '1=0202=1=', '11=2100==2-21121', '2-21-=', '2=00210-', '1==--2', '1-', '1==', '1220-1=22-=', '1=1-==21021-=10', '2=02=02000==1-', '1--210-0-0', '12-200==1=0-2=-0-', '12110-020-2-1--', '1-2', '20=2=--12=120', '112=20201', '1=021-0-=2---', '21202--1=-1=2--', '101=', '22=0---=-', '21', '10-1020', '12=2-==-0-=12=000=', '1-212-', '200=1--0120=2==201', '200-', '2=0', '1-1=1110211', '1---1==2', '1-2122==10--=0=10', '1=0-0-2-=01-=220', '2-0==00001002-=', '1-0--0001-2=0=0-', '1-02--01=-1', '1=101121=0110021-', '22-22===0-2', '1=-0-----202=212201', '120-00--10-=202=', '1=00==', '111022--0012=', '11-2-0=01-=-02', '1-011=-2', '2=021-=--1', '1--212000-2', '1=-000-', '1-=-==0', '20=0012110', '12=21-1-0', '1=0021=1010=0=2', '11-0-==01002', '1102-20=-', '102', '12122', '1-100121=', '12=-1==20=20=20222', '1-=-00--0--1-', '1===-22-2201=01-=-2', '1==0-11--==2=21=1-=1', '20=0=20-110-1201-=2', '112', '22=-', '2=2-2021', '11100=', '211-', '10000==10-000--0', '12', '1-1---1=111=', '11=-=102===-1-1=-', '20210-2-2-==11', '1012', '1-0=-121==-0', '1===0-0=-0=-=210', '12--1-2---021=-=', '1000', '2-2011-', '1--201001=002', '2--', '1---102=2=10110', '1=0=2=011-=', '12=--2-=1-0']"
   ]
  },
  {
   "cell_type": "code",
   "execution_count": 7,
   "id": "53950468-db57-45ad-ae3e-6dc32677f836",
   "metadata": {},
   "outputs": [
    {
     "name": "stdout",
     "output_type": "stream",
     "text": [
      "3\n",
      "-----\n"
     ]
    },
    {
     "data": {
      "text/plain": [
       "976"
      ]
     },
     "execution_count": 7,
     "metadata": {},
     "output_type": "execute_result"
    }
   ],
   "source": [
    "def decode(st):\n",
    "    total = 0\n",
    "    for i, c in enumerate(reversed(st)):\n",
    "        if c.isnumeric():\n",
    "            t = int(c)\n",
    "        elif c == '=':\n",
    "            t = -2\n",
    "        else:\n",
    "            t = -1\n",
    "            \n",
    "        total += (5**i)*t\n",
    "    \n",
    "    return total\n",
    "        \n",
    "        \n",
    "    \n",
    "print(decode('1=')) # 3\n",
    "print('-----')\n",
    "decode('2=-01')  # 976"
   ]
  },
  {
   "cell_type": "code",
   "execution_count": 25,
   "id": "35641be0-f888-40fd-afda-f55eecdc3ffb",
   "metadata": {},
   "outputs": [
    {
     "name": "stdout",
     "output_type": "stream",
     "text": [
      "13 :  encoded 1== = decoded 13\n"
     ]
    }
   ],
   "source": [
    "charmap = {0:'0', 1:'1', 2:'2', 3:'=', 4:'-'}\n",
    "addmap = {0:0, 1:0, 2:0, 3:1, 4:1}\n",
    "\n",
    "def encode(num):\n",
    "    r = num % 5\n",
    "    t = num // 5\n",
    "    t += addmap[r]\n",
    "    s = charmap[r]\n",
    "    while t > 0:\n",
    "        r = t % 5\n",
    "        t = t // 5 \n",
    "        t += addmap[r]\n",
    "        s = charmap[r] + s\n",
    "    return s\n",
    "        \n",
    "    \n",
    "tnum = 13\n",
    "e = encode(tnum)\n",
    "d = decode(e)\n",
    "print(tnum,':  encoded', e, '=' if tnum == d else '!=', 'decoded', d)\n"
   ]
  },
  {
   "cell_type": "code",
   "execution_count": 30,
   "id": "6203f239-7f63-4351-b9a7-0170db0efb97",
   "metadata": {},
   "outputs": [
    {
     "name": "stdout",
     "output_type": "stream",
     "text": [
      "1747  \t=  1=-0-2\n",
      "1747  \t=  1=-0-2\n",
      "906  \t=  12111\n",
      "906  \t=  12111\n",
      "198  \t=  2=0=\n",
      "198  \t=  2=0=\n",
      "11  \t=  21\n",
      "11  \t=  21\n",
      "201  \t=  2=01\n",
      "201  \t=  2=01\n",
      "31  \t=  111\n",
      "31  \t=  111\n",
      "1257  \t=  20012\n",
      "1257  \t=  20012\n",
      "32  \t=  112\n",
      "32  \t=  112\n",
      "353  \t=  1=-1=\n",
      "353  \t=  1=-1=\n",
      "107  \t=  1-12\n",
      "107  \t=  1-12\n",
      "7  \t=  12\n",
      "7  \t=  12\n",
      "3  \t=  1=\n",
      "3  \t=  1=\n",
      "37  \t=  122\n",
      "37  \t=  122\n"
     ]
    }
   ],
   "source": [
    "# quick test function for the encoding/decoding\n",
    "for i in range(0, len(sample_decoded)):\n",
    "    if decode(sample_encoded[i]) != sample_decoded[i]:\n",
    "        print(\"This one had trouble decoding!\", decode(sample_encoded[i]), ' != ', sample_decoded[i])\n",
    "    else:\n",
    "        print(sample_decoded[i], ' \\t= ', sample_encoded[i])\n",
    "        \n",
    "    if encode(sample_decoded[i]) != sample_encoded[i]:\n",
    "        print(\"This one had trouble encoding!\", encode(sample_decoded[i]), ' != ', sample_encoded[i])\n",
    "    else:\n",
    "        print(sample_decoded[i], ' \\t= ', sample_encoded[i])"
   ]
  },
  {
   "cell_type": "code",
   "execution_count": null,
   "id": "750e8bc0-23ff-4869-945f-f319a275edc8",
   "metadata": {},
   "outputs": [],
   "source": []
  },
  {
   "cell_type": "code",
   "execution_count": 28,
   "id": "9393e3e2-772b-4e02-b996-044e56634cd9",
   "metadata": {},
   "outputs": [
    {
     "name": "stdout",
     "output_type": "stream",
     "text": [
      "2=01-0-2-0=-0==-1=01\n"
     ]
    }
   ],
   "source": [
    "nums = problem_input\n",
    "#nums = sample_encoded    # c0mment this out to get real answer\n",
    " \n",
    "total = 0\n",
    "for n in nums:\n",
    "    total += decode(n)\n",
    "print(encode(total))\n"
   ]
  }
 ],
 "metadata": {
  "kernelspec": {
   "display_name": "Python 3 (ipykernel)",
   "language": "python",
   "name": "python3"
  },
  "language_info": {
   "codemirror_mode": {
    "name": "ipython",
    "version": 3
   },
   "file_extension": ".py",
   "mimetype": "text/x-python",
   "name": "python",
   "nbconvert_exporter": "python",
   "pygments_lexer": "ipython3",
   "version": "3.10.8"
  }
 },
 "nbformat": 4,
 "nbformat_minor": 5
}
