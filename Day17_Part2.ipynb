{
 "cells": [
  {
   "cell_type": "code",
   "execution_count": 25,
   "id": "113d8b8d-8c4a-4dba-9663-6610e0d5b3ec",
   "metadata": {},
   "outputs": [],
   "source": [
    "# I bet there is an easier way to do this since the pieces always fall in the same order \n",
    "# and the wind repeats, eventually this has to be cyclical. Finding that cycle though ...\n",
    "# maybe for a later attempt when cleaning up.\n",
    "\n",
    "# or now, since that's the only way to solve it. \n",
    "\n",
    "# wrote this code to first attempt a sliding window and only represent part of the blocks/chasm.\n",
    "# was still going to take forever, so added code to print out info at various points in time\n",
    "# as well as to find the periodic cycle I was thinknig about above.\n",
    "\n",
    "# this code is more of a 'show me data so I can do the calculation' than an actual\n",
    "# 'punch everything in and it spits out an answer' type thing.\n",
    "\n",
    "# handy imports to have\n",
    "%matplotlib inline\n",
    "from sympy import symbols, Eq, solve\n",
    "import math\n",
    "from itertools import combinations_with_replacement , permutations, combinations, count, chain\n",
    "import numpy as np\n",
    "import time\n",
    "import functools\n",
    "from tqdm.notebook import trange, tqdm\n",
    "import ipywidgets as widgets\n",
    "import matplotlib.pyplot as plt\n",
    "from collections import Counter, deque\n",
    "import more_itertools as mit\n",
    "import string\n",
    "import ast\n",
    "import networkx as nx"
   ]
  },
  {
   "cell_type": "code",
   "execution_count": null,
   "id": "7adc561b-bd94-4b44-b6b5-e3bfc16fb9be",
   "metadata": {},
   "outputs": [],
   "source": []
  },
  {
   "cell_type": "code",
   "execution_count": 46,
   "id": "4ea0c686-6280-41ad-996f-69813ee921f2",
   "metadata": {},
   "outputs": [],
   "source": [
    "shape_names_dict = {0: 'square', 1:'Horiz Bar', 2:'Plus', 3:'Backwards L', 4:'Vert Bar'}\n",
    "\n",
    "class block:\n",
    "    \n",
    "    def __init__(self, sequence_num, highest):\n",
    "        self.shape = sequence_num % 5\n",
    "        self.shape_name = shape_names_dict[self.shape]\n",
    "        \n",
    "        match self.shape:\n",
    "            \n",
    "            case 0:   # square\n",
    "                self.coords = [(highest+4, i) for i in range(3, 5)] + [(highest+5,i) for i in range(3,5)]\n",
    "            case 1:  # horiz bar\n",
    "                self.coords = [(highest+4, i) for i in range(3, 7)]\n",
    "            case 2:  # Plus\n",
    "                self.coords = [(highest+5, i) for i in range(3, 6)] + [(highest+4, 4), (highest+6, 4)]\n",
    "            case 3:  # backwards L\n",
    "                self.coords = [(highest+4, i) for i in range(3, 6)] + [(i, 5) for i in range(highest+5, highest+7)]\n",
    "            case 4: \n",
    "                self.coords = [(i, 3) for i in range(highest+4, highest+8)]\n",
    "            case _:\n",
    "                assert False, 'got an invlalid shape number/name'\n",
    "    \n",
    "    def get_coords(self):\n",
    "        return self.coords\n",
    "    \n",
    "    def can_move_left(self, c, offset):\n",
    "        for y,x in self.coords:\n",
    "            if c[y-offset][x-1] == '|' or c[y-offset][x-1] == '#':\n",
    "                return False\n",
    "        return True\n",
    "    \n",
    "    def can_move_right(self, c, offset):\n",
    "        for y,x in self.coords:\n",
    "            if c[y-offset][x+1] == '|' or c[y-offset][x+1] == '#':\n",
    "                return False\n",
    "        return True\n",
    "    \n",
    "    def is_placed(self, c, offset):\n",
    "        for y,x in self.coords:\n",
    "            #print(y, offset, y-offset-1)\n",
    "            if c[y-offset-1][x] == '|' or c[y-offset-1][x] == '#' or c[y-offset-1][x] == '-':\n",
    "                return True\n",
    "        return False\n",
    "        \n",
    "    \n",
    "    def move(self, c, direction, offset):\n",
    "        if direction == '<':   # if blowing left\n",
    "            if self.can_move_left(c, offset):\n",
    "                self.coords = [(y,x-1) for y,x in self.coords]\n",
    "                return True\n",
    "        elif direction == '>':\n",
    "            if self.can_move_right(c, offset):\n",
    "                self.coords = [(y,x+1) for y,x in self.coords]\n",
    "                return True\n",
    "        elif direction == 'down':\n",
    "            if not self.is_placed(c, offset):\n",
    "                self.coords = [(y-1,x) for y,x in self.coords]\n",
    "                return True\n",
    "        \n",
    "        return False\n",
    "            \n",
    "        \n",
    "        "
   ]
  },
  {
   "cell_type": "code",
   "execution_count": 64,
   "id": "777ec41c-153e-47a9-a2c4-241faac26ebf",
   "metadata": {},
   "outputs": [],
   "source": [
    "# sample input\n",
    "wind_input = '>>><<><>><<<>><>>><<<>>><<<><<<>><>><<>>'"
   ]
  },
  {
   "cell_type": "code",
   "execution_count": 83,
   "id": "3eaafc56-8ab2-4a8e-b73f-6dad2e0c35eb",
   "metadata": {},
   "outputs": [],
   "source": [
    "# puzzle input\n",
    "wind_input = '>>><<<>><<<>>><<<>>><<<>><<><>>><<>>><>><<<>>><<><>>><<<<>>>><>><<>>>><>>>><<<<>>>><<<>>><>><<>><<<>><<<<><<>><<><<<>><<>>><<<>>>><>>><>><><<<<><>><><<>>>><<><<<<><<<><<>>>><<><<>><<<<>>>><>>>><>><><<<>>>><>>>><>><<>>>><>>>><<><<<<>><<>>>><>>><>><>><<>><<<<>>>><<<>><<<><><<<<>><<><<<<><<<><<<<>>>><<><<<>>><<>><>><<><<<<>>>><<<>>>><<<<>><<<<>><<>>>><<><>><>>>><<<<>>>><<>>><<<><<<<>>><>><<<>>><<<>>>><<<>>>><>>>><>>><<<<>>>><<<>>><<<<>>><><<>>><<<>>>><<<>>>><>>>><<<<>><<>>><<<<><>>>><><<<<>>><<<<>>>><<<>>>><<>>><>><<>><<>><<>>><<>>>><>>><<<><<<>><<<<>>><<<>>><<<><>>><<<<><>><<<>>>><><<<<><<>><<<<>><<<>>><>><<><><<<>><<<>>><<>>>><<>><><<>>>><<<<>>><<<>><<<<>><<><<<>>>><>>><>><<<>>>><<<>>><>><<<<><><<>><<<>><<<<>>>><<<<>>><<<<>><>>>><>>><>>><<>>><<<<>><<><<<<>>>><<<<>>>><<<><<>><><<<>>><>><<>><<<>>><>>><<<<>><>><><<><>><>>><>>>><<<>>><<<<>>>><<<>>>><<<>><<<<>>>><<<>>><><<>>><>>><<<>>><<<<><>>>><<<><>>>><>>><<>>><>><<<<>>><<>><<<<>><<>>>><<<><<><><<<>><<<<>>><<<><<<<>>>><<<<>>>><<<<>><<>>><<<><<<<><<<>>><><<<<><>><<><<<<>>><<>><>><<<><<<>>><<>><<<<><<<>><<<<>>><<>>><<<>>>><<<>><<<>>>><><<>><>>><<<>><><>><<>>><<<<>>><<>>>><>><<><<<>>>><<<>>><<>><<<<>>><<<<><<<<><<>>>><>><><<<>>>><<<<>><<<<>><>><<>><<<>><><<<<>>>><<<<>>>><<<>>>><>><<>><<<><<<<>><<<<><<<><<<>>><<<>><>>><<>><<><<>><<>><<><<<><<<<>>>><<<><>>>><<>><<>>><>>><<>>><><<>>><<<>>>><<<<>>>><><<<>>><<>>>><<<<><>>><>><<>><<<><><>>><<<>>>><>>><<><>>><<>>><<<>>><<<><<<>>><<<<><<<<>>>><<<>>>><<<<>>>><<<>>><<>><<>>><<<<>><><<<><<><<<>>>><<<<>>><>><<<<><<<>>>><<<<>>>><<<>><>>>><<<><<<<>>>><>>>><<>>>><<<><<<<><<>><>>>><<<>>>><<<<>>><>>>><<<><<>>><<>><<<>><>><<<>>><<>>>><<>>><<>>>><<><<>>>><<<<>>><<<<>>><<<>>><>><<><<<<>>>><<<>>><><<<<>>><<>>><<>><<<>><<<<><><<<<>>>><<<><<>>>><<<>>>><>><<<>>>><>>>><><<<<>><<<>>><>>><>>><<<>><<<<><>>><<>>><<<>>>><>>>><><<<<>>>><<>>><>>><<<<><<>>><<<><<<>>>><<<<><><<<<><<<<>><<<><>><<<<>>><>><<><<>>><<<>>><<<<>><<<>>><<<>>>><<<<>>><>><>><<<<>>>><>>><<<<>>><<>>><>><<<><>>>><<<<><<<>><><<<<>><<<<>>>><>><>><>>>><<<>>>><<>>>><<<>>><<<<>>>><<<<>>>><<><><<<>>><<>>><<<<>>>><<<<><<>>>><<<><<<<>>>><<>><<<>><<><>><<<<>>><<<<>>><<<<>>><<>>>><<<<>><<>>><<>>><>>>><<<>>>><<>>><<<<><<<>>><<<<><<><<>>><<>>>><<<<>>><<>>><<<<>>>><<<<>>><<<<><>><<<>>>><<<<>><<<>>><<<><<>>>><>>><<>>><>>>><<<><<<<><<<><<<>>>><<>>>><>>><>>>><<>>>><<<<>>>><>><<<<><<<>>>><><<>>>><<><<<>><<<<>>>><<<<><<<><<<<>>>><>><><<<<>><<<<>>><<>><<>>><>>><<<>>>><<<<>>><<<<>>><<>>>><<>><>><<<<>>>><<<>><<>><><><<>><<<<>>><<><<<<><><<<>>>><<<<>>><<<<>>>><<<>>><<<<><<<<>>><<><<><<>>><<<><<>><>>>><<<>><<>>><<<<>>>><>>>><<<>>>><<<<>><<><<<>>>><<<>>><>>>><<<<>>>><<<<><<>>><<<<>>>><<>>>><<<<><<<<>>><<>>><><<<<><<>>><>>>><<><<<>>>><>>><<<>><<<>><<<<>><>>>><<<>><<<<><>>>><<<>><<<<>>>><<<<>><<<<>><<>>><>>>><<>>><<<<><<>><>><<<<>>>><<<<>>>><<>><<<<><<<<><<>><><<>>>><<<<>>><<<<>><<<<>><<<<>><<<<>>><<<<>>><<<<><<<>>><><>>>><<>><>>><<>>><<<>>><<><>>>><<<<>>><<<>><<<<>>><<<>>><<>><<>><><<>><<>><<>>>><>>><<<>>>><<<<>>>><<<>><>>>><<<>>><<<><<>>>><<<>><<<<>><<<>>><<<<>><<><<<>>>><<>><>>>><<<<><>>>><<><<<<>><<>>><<>><<<<>>>><<>>><<>><<>>><>>>><<<>><<<><>><<<<>>><<<>>><<><<>>>><<<><>>>><>><<<>><><<<<>><<<<>>>><<<<>><><<<>>>><><<<<>>>><<>>><>>>><<>><>><<<><>><<<>>>><>><<<><<><><<<>>><<>><<<<>><<<>>><<>><<><>><<<<>>>><<<<>><<>>>><<<>><<><>>>><<<<>>>><>>><<>>><><<<<>><<>><>>>><<<<>>>><><<>>>><>>>><<<<>>>><<<<><>><><<<>>>><>>><<><><<<><<<<>>>><<<<>><<<>>>><<<<>>>><<<<>><<>>>><>><>>>><<<<><<>><<<><<<>>>><<<>>><<>>>><>><<<<>><<<>>>><<>>>><<<<>>>><<<<><<<>><>><><><<<><<<><<<><<<<>>><<>>><<>>><<<>><<<><<<<><<>>>><>><>><<<>>><<<<>>>><<<<>>><<<<>>><<<>>>><<>><<>><>><<>>><<>>>><<<<>>>><>>>><><><<<<><<<<>><<<><<<>>><<>>><<<>>>><<>>>><<>>><<<<>>>><<<><<<<>>><<<<><<>>>><<<<>>><>><><<>>><>>>><>>><<<>><<<<>><<<>>>><<>><<<>>>><<<><<<<>>><<<<><<<><<<>><<<>>>><<>>><>><<<<>>><<<>><>>>><<><><<<><><<<>>>><<<>><<><<<>>>><<<>>>><>>>><<<>>><<<>>><<<<>><<>><>><<>><>>><<><>><>>>><<<><<<><<<><<<<>><<>>>><>>>><>>><<<<><<<<>>>><<><<<>>><<<>>>><<<>>><<>>>><<>><><<<>><<<<>>>><<<<><<>><>><<<>><><<>><<<<>>><>>>><<<>><<<>><<<>>><<><<<><>><><><<>><<<>>><<<><<<><>>>><>>>><>>><<<<>>>><><<<<>>><<>><<<<>><<>>><>>>><<>>><>>>><<<>>>><<<>>>><<<<>>><<<<>><<<>>><<<>><<<>>><<<<>>><<>>>><<>>>><<<<>>>><<<<>><<<>>><<<<>>><>>>><<<<><<<<>><<<<>>>><>>><<<>><<>>>><<><<>><<<>>><<<<><<<<>>>><<<<><<<>>>><<<<>>><><<<<><<<<>><><<<>>>><>><<<<>><><>><<<>>>><><<>>>><><<<>>>><>>><<<<>>>><<<<>>><<<<>><<>>>><>>>><>>><<<><<>>>><<<<><<<<>><><>><<<>><<><<<<>>><<<<>>>><<<>><>><<>>><<<>>><<<<>>><<<><>>><<<>>><<<>><<<>>>><<<>><<>>>><<<<>>><<<<>><<<><>><<<>><><<<>><<<<><><>><<<><>><><<<>>><>>>><>>>><<<>><<<>>>><<<>>><<<<>>><<<>>>><<>>>><>><<><<<>><<>>>><>>>><<>><<<<><<<>><<>><<<><<>>>><<<<><<<>>>><<><<>>>><<><>>><><<>>><<<><<><<<<>>><<>>><>>>><><>>><<<<>><<>><<>>>><<<<>>><<<>>><<><<<><<<<>>><<>>><>><>>>><<><<<>>><<<<>>>><<>><<<<>><>>><<<>>><<>>>><<<>><<><<<>>><><<>>><<><<>>><>>>><<<<>>>><<<<>>>><<<>>>><<<<>>>><><<<<>>><>>><<<<>>><<>><<<>>>><>>>><><<<>><<>><<<>>><<<<>>><<<>>>><><<<<>>>><<><<>>><<<<>>>><<>>><<<<><>>><<<>>><<><<><<<>><>>>><<<>>>><<<>><<<>><<>>><<>>>><<<><>>>><<<<>>><<<<>><<>><<<>>><<<<>><<<<>>>><<>><<>><<<<>>>><>>>><<<>><>>><><>>><>>>><<<>>>><<>><<<>><<>><>>>><<<>>>><<<<><>>><<><<><>>>><<>>>><>>><<<<>>>><>>>><<<><<<><>>><<<>>><>>><<<>><<<<>>><>>>><<><<<<><<<>>>><<<<><<<<>><<>>><<<<><<<<>>><<>>><<<>>>><<>>>><<<>>>><<>><<>>><<<>>><<>>><>>><<>><<>><<<<><<>>>><<<>>>><<<>><<<<>>>><<>>>><>>>><>><>>>><><<<>>>><<<>>><><<<<>>><<<>><<<>><<<<>><<<>>>><<<<>>>><>>>><>><<<><><>>><>>>><<<<>>>><<<>>>><<>><>>>><<<<><<<>>>><>><<<>><<<<>>>><>>><<<<>>><<<<>><<<>>><<<<>>>><<>>><<>><<<>>><>><<>>>><<<<>>><<<<>>><<<<><<<<>>>><<<<><<<<>><>>><><<<>>><<<<>><<<<>>>><<<>>><>>><>>><<<>>><>>>><>><<>><<<<><<><>>>><<<<>>>><<<<>>>><<<>>>><><<<<>>>><<>>><<<>>>><<>>>><<<>>>><<<>><<<>><<>><<>>>><>>><>>>><<<<>>><<<>><<>>>><>>>><<<><<><<<>><<<<>>>><<<><<<<>><<><<<>><<<<><>><<<<><<>>>><>>>><<><<<<>><<>><<<>>>><<>>>><<<<>>><<><<<>>>><<<<>>>><<<>>><>>>><<>>><<<<>>><<<<>>><<<<>>>><<>>>><<>>>><<<<>>>><<>>>><<>>><>><<<<>>><>>>><>><<>>><<<<>><<<>><<><<>>>><<<>><<>><>><<<>>>><<><<><<><<><<>>>><<<>><<>>>><>>><<<<><<><>>><<<><<<<>>>><<<>>><<<<>><>>>><>><<<>>><<<>>><<>><<<><<<<>>>><<<><<><<<>>><<<<>><>>><>>><<<<>>><><<<<>><<>>>><>><<>>><<><<>>><<<<>>>><>><<<><<<>>>><<<>>>><<<>><<<>>>><<><<<<><<<<>><<>>>><>>><>>><<<<>><>><>><<<>>><<>><><>>><<<<><<<<>>>><>>><<<><<><>>><<<<>>>><><>><<<><<<>>><>>><<>><<>>>><><>><>><<<>><<>>>><<<>><<<<>>>><<<>><<>>><<<<>>>><<<<><<<>><<<><>>>><<<<>>>><<<>><<<><<<>><>>>><>>><<><>><<>>>><<<<><><<>>><<<<>>><<<<>>><<>>><<>><<<<>>>><<<<>>>><><><<>><>>>><<>>><<<<>>>><<>><<<>><<<<>>><<>>><><<>><<>><<<>>>><>><<><<<<>><<<>><<<>>>><>><<<<>><><>>>><<<<>><<<>>><<<<>><<<>><><>>>><<>><>>>><<<<>>>><<<<>>><<<<><<<<><<>>><<<<>>><<<<>>><<<<>>>><>><<><<>><<>>>><<<<>>><<<<>><<<>><>>><<<<><<>>><<<>>>><<><<<>>>><<><>><<><><<<><<<<>>><>>><<>>>><<<<><<>><>>>><<>>>><<<<>>>><<<<>>><><<<<>>>><<>><<>><<<>>>><<>>><>>><>>>><<<<>>><<>>><><>>><<><>>>><<<<>>><<<>><<>><>>>><<><<<>>><<<>>>><<<>>>><<>>>><<<<>>>><<<<><<>>><<>>>><<>>>><<><<<>><<<<><<<<>><<>>>><<><<<<>>><<<><<<<>>><<<>>>><<>>><>><<>>><>>><<>><>>><>>>><<>><<<><<>>>><>>>><<<><>>>><<<<>>>><<<<><><>>><<<>>>><><>>>><<<>><>>><<<>>>><<><<><<<<>>>><>>><<<>><<<><>><<<><><<<>>>><<>><<><<<>>>><<<>>><<<>>>><<<>>>><<<><<>><<<>><><<<>>>><<<<>>><<>><>>>><>><<>>>><<<><<>><<<><<<>>>><<<<><<<<><><<<>>>><><<<<><<<>>>><<<<>><<>><><<<>>><>><<<<>><<<>>>><>>>><<<>>><<<<><<<>>><<>>>><<<<>><<<<>>><><<><<<<><<>><>>><>><>><<<<>>>><><<>>><<<<>>>><<<<>>>><<<>><><<<<>><>>>><<>>><<<<>>><<<>>>><<>>>><<<<><<<<>>><<<>>><<>>>><<<>>>><<<>>>><<<<><<<<>>><<>>>><>>><>><<>><<<>><<<>><>><<>><<><<<<>>>><<<>><<>><<<<>>><<<><><>><<<><<>><<<<>><<>>>><<><<<<>><<<<>>><<<<>>>><<<<>><<<<>><<<>>><>>>><<<>>><<<<>>>><><<<>>><<>>>><<<><<<>><<>>><>>><<>>><>>><<>>><<<><<<>>>><<>><<>><<>>><<>><<<>>>><<<>>>><<<>>><<<><><>>>><<<<><<<>>><<<><>><<<<>>>><<<>><<<<>>><<<>><><<<>><<<<>>><<<><<<>>>><><<<<>>><<<>><<<>><<<<>>><<<<>>><<<<>>>><<>>>><<<<>>><>><<<><<<><>><<<>>><<<>><<<<>><<<<><<><>>>><<><<<>>><<<<>>>><<>><>>>><<<<>>>><<><<<<>><<<<>>><<<>>>><>>>><>><<>><<<><><<<<>>>><><>>><<<>>><<<<>>><<<<>>>><<><<<>>><<>>>><<<><>><><<<<>>>><<<<>>>><<<>>><<<>>>><<>>>><<<>>>><<<>>><>><<<<>><><>><<<<>>>><>>>><<<>><<>>>><<><<<<>>><>>><<<>>>><<<<><<><>>><<<<><<<<>>><<>><><<<<>>>><<<>><>>>><>>>><<>><<<>>>><<<<>>><<<>>>><<<>>>><<>>><<<>>><<<<>><<<<>><>>><<>>><<>>>><<<<>>>><>>><>><<><>>><<<><<>>>><><<<>>><<<><<>>>><<<>>><><<<<>>><<><>>><<>>><>>>><><>><<>>><<>>>><<>>>><<<<>>><>><><<<<>>>><<<<>>><><<>><<<<>><<>><<<>>><<<<>>><<<>>><<<<>><><<<><<<>>>><>>>><<<<>><<<>>><<<><<><<<><>><><<<>>>><<<<>>><<<<>>><<<<><<<>>>><<<<>>>><<<>>><>><><<>><<<>><<><<<<>><<><<<>>><<>>><<>>>><<>>>><><>>>><<<>>>><<<<><<>><<<<>>>><<<>><<<<>><><>>><<<<>>>><<>>><<<>><<<>>><<>>>><<<><<<<>><<>><<<>><<>>>><<>><<<<>>><>>><>><>>>><<<>>><<>>><<<>><<>>><<<<><<<><<>>><<<<>>><>><><<<<><>><>>><>><<><<<<><<>>><>><>><<>>><<>>><>>><<<<>>><<<<>>><<><>><<<<>>><<<<><<>><<<><><>>><>>><<<<>>><<<><<<>><<><>>>><<>><<>><<<<><<<<>><<>>>><>><<><<<>>>><<<>>>><<><<<<>>>><<<>><<<>>>><<<><>>>><<<>><<>><<<>><<<<>>>><<<>>><<<>><<<>>>><<<>>><<>>><<<<>>>><>>>><<>>>><><<<<>><<><<><<>><>>><<>>>><<>>><<<<><<><>><<<<><>><<<<><<<<>><<>>><<<<><>>>><>><<<>>>><<<<>>>><<>><<<<>>><<>>>><<>>><<<<>><<<><<<<>><<<>>><<<>>>><<<>><>><<>>>><<><<><>><>>><>><<<>>><<>>><<<><<<<>>>><<<<>>><<<<>>><<>>><<<<>>>><<><><><>><<>>><<<>>><<<<><>>><>><>><<<<><<<<>><<<<>>><>>>><<<>>><<<>>>><<<>>>><<<<>>>><>>><<<<>>>><><<<><<>>><<<<>>><<>><<>><<<<>>>><<>><><<<<>><<<>>><<<>>><<<<>><<<>>>><<<<>>>><>>><>>>><<>>><<><<><<<>>><<<><<<><>>>><<<<><<>>><<<>><<<<><<<>>><><<<<>>>><<>>>><>>><>><>>>><<<<><<<><<<><<><<>>>><<>>><>>>><<<><<>>><<<>><<><<<><<<><<<>><>>><<<>><>>><<>><>><<<<>>>><<<<>>>><><<<<><<><<<<>>>><>>><<<>>>><>>>><<<>>><<<>>>><<<>>><<<>>>><>>><<<>><>>><<>>>><><<<>><<<><>>>><<<>>>><<<<><<<>>>><>>><<<>><<>><<<<>><<<><<>>><<<>>>><>>>><<<<>>><<<>><>>>><><<<<><<>>>><>>>><<<><<>>>><<<<>>><>>><>>>><><<>>>><<><><><<>><<>>><<<><<>>>><<><<>><<>>>><<<>>>><<><<><<>>><<<>><<<>>>><><<<>>>><<<<><>>>><<<>>><<>><>>>><<<<><<>>><<><>><'"
   ]
  },
  {
   "cell_type": "code",
   "execution_count": 63,
   "id": "28d8488e-ffee-40f4-a431-440ac3ac9ac9",
   "metadata": {},
   "outputs": [],
   "source": [
    "# changed the return for part 2\n",
    "def get_wind():\n",
    "    index = 0\n",
    "    while True:\n",
    "        yield index, wind_input[index]\n",
    "        index += 1\n",
    "        if index == len(wind_input):\n",
    "            index = 0"
   ]
  },
  {
   "cell_type": "code",
   "execution_count": 54,
   "id": "41291e10-4a41-4968-9687-30a7072988f5",
   "metadata": {},
   "outputs": [],
   "source": [
    "# helper function to print the chasm and pieces in a readable way\n",
    "def print_chasm(c, ht=0, bot=0, piece=None):\n",
    "    coords = set()\n",
    "    if piece:\n",
    "        coords = set(piece.get_coords())\n",
    "        \n",
    "    if ht == 0:\n",
    "        ht = len(c)\n",
    "    else:\n",
    "        ht += 1\n",
    "        \n",
    "    for i, r in enumerate(reversed(c[bot:ht])):\n",
    "        for j, c in enumerate(r):\n",
    "            if(ht-i-1, j) in coords:\n",
    "                print('@', end='')\n",
    "            else:\n",
    "                print(c, end='')\n",
    "        if (ht-i-1) % 5 == 0:\n",
    "            print(' ',abs(ht-i-1))\n",
    "        else:\n",
    "            print('')"
   ]
  },
  {
   "cell_type": "code",
   "execution_count": 31,
   "id": "d139ff9c-6789-4f4d-a2d0-0ce31221294b",
   "metadata": {},
   "outputs": [],
   "source": [
    "def place_piece(p, h, offset):\n",
    "    coords = p.get_coords()\n",
    "    for y, x in coords:\n",
    "        chasm[y-offset][x] = '#'\n",
    "        if y > h:\n",
    "            h = y\n",
    "    return h"
   ]
  },
  {
   "cell_type": "code",
   "execution_count": 90,
   "id": "381d0a2b-5d7c-41c6-a518-b03a3eb867a1",
   "metadata": {
    "tags": []
   },
   "outputs": [
    {
     "data": {
      "application/vnd.jupyter.widget-view+json": {
       "model_id": "28e70602493243868a5ad70cbfcfe085",
       "version_major": 2,
       "version_minor": 0
      },
      "text/plain": [
       "  0%|          | 0/1000000000000 [00:00<?, ?it/s]"
      ]
     },
     "metadata": {},
     "output_type": "display_data"
    },
    {
     "name": "stdout",
     "output_type": "stream",
     "text": [
      "9 18\n",
      "10 22\n",
      "11 22\n",
      "804 1310\n",
      "805 1314\n",
      "806 1316\n",
      "C: 3410 S: 0 WI: 52 first appeared at count 10 height: 5386\n",
      "C: 5105 S: 0 WI: 52 first appeared at count 10 height: 8057\n",
      "C: 6800 S: 0 WI: 52 first appeared at count 10 height: 10728\n",
      "C: 8495 S: 0 WI: 52 first appeared at count 10 height: 13399\n",
      "C: 10190 S: 0 WI: 52 first appeared at count 10 height: 16070\n",
      "C: 11885 S: 0 WI: 52 first appeared at count 10 height: 18741\n",
      "C: 13580 S: 0 WI: 52 first appeared at count 10 height: 21412\n",
      "C: 15275 S: 0 WI: 52 first appeared at count 10 height: 24083\n",
      "C: 16970 S: 0 WI: 52 first appeared at count 10 height: 26754\n",
      "C: 18665 S: 0 WI: 52 first appeared at count 10 height: 29425\n",
      "C: 20360 S: 0 WI: 52 first appeared at count 10 height: 32096\n",
      "C: 22055 S: 0 WI: 52 first appeared at count 10 height: 34767\n",
      "C: 23750 S: 0 WI: 52 first appeared at count 10 height: 37438\n",
      "C: 25445 S: 0 WI: 52 first appeared at count 10 height: 40109\n",
      "C: 27140 S: 0 WI: 52 first appeared at count 10 height: 42780\n",
      "C: 28835 S: 0 WI: 52 first appeared at count 10 height: 45451\n",
      "C: 30530 S: 0 WI: 52 first appeared at count 10 height: 48122\n",
      "C: 32225 S: 0 WI: 52 first appeared at count 10 height: 50793\n",
      "C: 33920 S: 0 WI: 52 first appeared at count 10 height: 53464\n",
      "C: 35615 S: 0 WI: 52 first appeared at count 10 height: 56135\n",
      "C: 37310 S: 0 WI: 52 first appeared at count 10 height: 58806\n",
      "C: 39005 S: 0 WI: 52 first appeared at count 10 height: 61477\n",
      "C: 40700 S: 0 WI: 52 first appeared at count 10 height: 64148\n",
      "C: 42395 S: 0 WI: 52 first appeared at count 10 height: 66819\n",
      "C: 44090 S: 0 WI: 52 first appeared at count 10 height: 69490\n",
      "C: 45785 S: 0 WI: 52 first appeared at count 10 height: 72161\n",
      "C: 47480 S: 0 WI: 52 first appeared at count 10 height: 74832\n",
      "C: 49175 S: 0 WI: 52 first appeared at count 10 height: 77503\n",
      "C: 50870 S: 0 WI: 52 first appeared at count 10 height: 80174\n",
      "C: 52565 S: 0 WI: 52 first appeared at count 10 height: 82845\n",
      "C: 54260 S: 0 WI: 52 first appeared at count 10 height: 85516\n",
      "C: 55955 S: 0 WI: 52 first appeared at count 10 height: 88187\n",
      "C: 57650 S: 0 WI: 52 first appeared at count 10 height: 90858\n",
      "C: 59345 S: 0 WI: 52 first appeared at count 10 height: 93529\n",
      "C: 61040 S: 0 WI: 52 first appeared at count 10 height: 96200\n",
      "C: 62735 S: 0 WI: 52 first appeared at count 10 height: 98871\n",
      "C: 64430 S: 0 WI: 52 first appeared at count 10 height: 101542\n",
      "C: 66125 S: 0 WI: 52 first appeared at count 10 height: 104213\n",
      "C: 67820 S: 0 WI: 52 first appeared at count 10 height: 106884\n",
      "C: 69515 S: 0 WI: 52 first appeared at count 10 height: 109555\n",
      "C: 71210 S: 0 WI: 52 first appeared at count 10 height: 112226\n",
      "C: 72905 S: 0 WI: 52 first appeared at count 10 height: 114897\n",
      "C: 74600 S: 0 WI: 52 first appeared at count 10 height: 117568\n",
      "C: 76295 S: 0 WI: 52 first appeared at count 10 height: 120239\n",
      "C: 77990 S: 0 WI: 52 first appeared at count 10 height: 122910\n"
     ]
    },
    {
     "ename": "KeyboardInterrupt",
     "evalue": "",
     "output_type": "error",
     "traceback": [
      "\u001b[0;31m---------------------------------------------------------------------------\u001b[0m",
      "\u001b[0;31mKeyboardInterrupt\u001b[0m                         Traceback (most recent call last)",
      "Cell \u001b[0;32mIn[90], line 38\u001b[0m\n\u001b[1;32m     34\u001b[0m         found_repeat \u001b[38;5;241m=\u001b[39m \u001b[38;5;28;01mTrue\u001b[39;00m\n\u001b[1;32m     36\u001b[0m \u001b[38;5;66;03m# part 1 code continues here\u001b[39;00m\n\u001b[0;32m---> 38\u001b[0m \u001b[43mb\u001b[49m\u001b[38;5;241;43m.\u001b[39;49m\u001b[43mmove\u001b[49m\u001b[43m(\u001b[49m\u001b[43mchasm\u001b[49m\u001b[43m,\u001b[49m\u001b[43m \u001b[49m\u001b[43mw\u001b[49m\u001b[43m,\u001b[49m\u001b[43m \u001b[49m\u001b[43mht_offset\u001b[49m\u001b[43m)\u001b[49m\n\u001b[1;32m     39\u001b[0m moving \u001b[38;5;241m=\u001b[39m b\u001b[38;5;241m.\u001b[39mmove(chasm, \u001b[38;5;124m'\u001b[39m\u001b[38;5;124mdown\u001b[39m\u001b[38;5;124m'\u001b[39m, ht_offset)\n\u001b[1;32m     40\u001b[0m \u001b[38;5;66;03m#print('still moving:', moving)\u001b[39;00m\n\u001b[1;32m     41\u001b[0m \u001b[38;5;66;03m#print_chasm(chasm, ht=10, piece=b)\u001b[39;00m\n",
      "Cell \u001b[0;32mIn[46], line 49\u001b[0m, in \u001b[0;36mblock.move\u001b[0;34m(self, c, direction, offset)\u001b[0m\n\u001b[1;32m     47\u001b[0m \u001b[38;5;28;01mdef\u001b[39;00m \u001b[38;5;21mmove\u001b[39m(\u001b[38;5;28mself\u001b[39m, c, direction, offset):\n\u001b[1;32m     48\u001b[0m     \u001b[38;5;28;01mif\u001b[39;00m direction \u001b[38;5;241m==\u001b[39m \u001b[38;5;124m'\u001b[39m\u001b[38;5;124m<\u001b[39m\u001b[38;5;124m'\u001b[39m:   \u001b[38;5;66;03m# if blowing left\u001b[39;00m\n\u001b[0;32m---> 49\u001b[0m         \u001b[38;5;28;01mif\u001b[39;00m \u001b[38;5;28;43mself\u001b[39;49m\u001b[38;5;241;43m.\u001b[39;49m\u001b[43mcan_move_left\u001b[49m\u001b[43m(\u001b[49m\u001b[43mc\u001b[49m\u001b[43m,\u001b[49m\u001b[43m \u001b[49m\u001b[43moffset\u001b[49m\u001b[43m)\u001b[49m:\n\u001b[1;32m     50\u001b[0m             \u001b[38;5;28mself\u001b[39m\u001b[38;5;241m.\u001b[39mcoords \u001b[38;5;241m=\u001b[39m [(y,x\u001b[38;5;241m-\u001b[39m\u001b[38;5;241m1\u001b[39m) \u001b[38;5;28;01mfor\u001b[39;00m y,x \u001b[38;5;129;01min\u001b[39;00m \u001b[38;5;28mself\u001b[39m\u001b[38;5;241m.\u001b[39mcoords]\n\u001b[1;32m     51\u001b[0m             \u001b[38;5;28;01mreturn\u001b[39;00m \u001b[38;5;28;01mTrue\u001b[39;00m\n",
      "Cell \u001b[0;32mIn[46], line 29\u001b[0m, in \u001b[0;36mblock.can_move_left\u001b[0;34m(self, c, offset)\u001b[0m\n\u001b[1;32m     27\u001b[0m \u001b[38;5;28;01mdef\u001b[39;00m \u001b[38;5;21mcan_move_left\u001b[39m(\u001b[38;5;28mself\u001b[39m, c, offset):\n\u001b[1;32m     28\u001b[0m     \u001b[38;5;28;01mfor\u001b[39;00m y,x \u001b[38;5;129;01min\u001b[39;00m \u001b[38;5;28mself\u001b[39m\u001b[38;5;241m.\u001b[39mcoords:\n\u001b[0;32m---> 29\u001b[0m         \u001b[38;5;28;01mif\u001b[39;00m c[y\u001b[38;5;241m-\u001b[39moffset][x\u001b[38;5;241m-\u001b[39m\u001b[38;5;241m1\u001b[39m] \u001b[38;5;241m==\u001b[39m \u001b[38;5;124m'\u001b[39m\u001b[38;5;124m|\u001b[39m\u001b[38;5;124m'\u001b[39m \u001b[38;5;129;01mor\u001b[39;00m c[y\u001b[38;5;241m-\u001b[39moffset][x\u001b[38;5;241m-\u001b[39m\u001b[38;5;241m1\u001b[39m] \u001b[38;5;241m==\u001b[39m \u001b[38;5;124m'\u001b[39m\u001b[38;5;124m#\u001b[39m\u001b[38;5;124m'\u001b[39m:\n\u001b[1;32m     30\u001b[0m             \u001b[38;5;28;01mreturn\u001b[39;00m \u001b[38;5;28;01mFalse\u001b[39;00m\n\u001b[1;32m     31\u001b[0m     \u001b[38;5;28;01mreturn\u001b[39;00m \u001b[38;5;28;01mTrue\u001b[39;00m\n",
      "\u001b[0;31mKeyboardInterrupt\u001b[0m: "
     ]
    }
   ],
   "source": [
    "# code for part 2, sliding window ... tqdm estimates this will complete in 3500 hours ... 145 days :(\n",
    "check_num_blocks = 1000000000000\n",
    "chasm = [[] for _ in range(0, 100000)] \n",
    "for i, _ in enumerate(chasm):\n",
    "    chasm[i] = ['|'] + ['.' for _ in range(0,7)] + ['|']\n",
    "chasm[0] = ['+'] + ['-' for _ in range(0,7)] + ['+']\n",
    "\n",
    "\n",
    "highest_used = 0\n",
    "wind = get_wind()\n",
    "ht_offset = 0\n",
    "\n",
    "type_and_index_to_sequence_num = {} # dict for tracking the repeating cycle\n",
    "found_repeat = False\n",
    "repeat_tuple = ()\n",
    "\n",
    "for count in tqdm(range( 1, check_num_blocks+1 )):\n",
    "    b = block(count, highest_used)\n",
    "    \n",
    "    # print data needed to solve the problem, array populated based on finding cycle start and length\n",
    "    if count in [ 9, 10, 11, 795+10, 794+10, 796+10]:\n",
    "        print(count, highest_used)\n",
    "    moving = True\n",
    "    while moving:\n",
    "        \n",
    "        # find the cycle for part 2\n",
    "        windex, w = next(wind)\n",
    "        if (b.shape, windex) not in type_and_index_to_sequence_num.keys():\n",
    "            type_and_index_to_sequence_num[(b.shape, windex)] = count\n",
    "        elif found_repeat and (b.shape, windex) == repeat_tuple:\n",
    "            print('C:', count, 'S:', b.shape, 'WI:', windex, 'first appeared at count', type_and_index_to_sequence_num[(b.shape, windex)], 'height:', highest_used)\n",
    "        else:\n",
    "            if not found_repeat:\n",
    "                repeat_tuple = (b.shape, windex)\n",
    "                found_repeat = True\n",
    "                \n",
    "        # part 1 code continues here\n",
    "        \n",
    "        b.move(chasm, w, ht_offset)\n",
    "        moving = b.move(chasm, 'down', ht_offset)\n",
    "    highest_used = place_piece(b, highest_used, ht_offset)\n",
    "    \n",
    "    # cut off the bottom and allocate more space above\n",
    "    if highest_used > 97000 + ht_offset:\n",
    "        chasm = chasm[50000:] + [['|'] + ['.' for _ in range(0,7)] + ['|'] for _ in range(0, 50000)] \n",
    "        ht_offset += 50000\n",
    "        \n",
    "\n",
    "print(highest_used)\n",
    "\n"
   ]
  },
  {
   "cell_type": "markdown",
   "id": "fb63a3ae-2aa7-466f-aa75-ec23dbe2edd0",
   "metadata": {},
   "source": [
    "## sample data:\n",
    "first instance of cycle appears at count 9, with height 16\n",
    "\n",
    "then repeats every 35 counts. Cycle adds 53 height per iteration.\n",
    "\n",
    "target is 1000000000000\n",
    "\n",
    "1000000000000 - 9 is how many iterations after cycle starts\n",
    "\n",
    "/ 35 = 28571428571 and change\n",
    "\n",
    "% 35 = 6\n",
    "\n",
    "height at 9+6 = 37\n",
    "\n",
    "so height should be (height at start of cycle) + (cycle height * 28571428571) + (cycle height at start+6 - height at start)\n",
    "15 + (53*28571428571) + (23-15) = 1514285714286  !! very close to answer of 1514285714288 has an off by one, so only two anwers. check it and see!\n",
    "\n",
    "\n",
    "8 13  <-maybe?\n",
    "9 15  <- here\n",
    "10 17\n",
    "14 23 \n",
    "15 23 <- here\n",
    "16 25 <- maybe?\n",
    "C: 44 S: 4 WI: 37 first appeared at count 9 height: 70\n",
    "C: 79 S: 4 WI: 37 first appeared at count 9 height: 123\n",
    "C: 114 S: 4 WI: 37 first appeared at count 9 height: 176\n",
    "C: 149 S: 4 WI: 37 first appeared at count 9 height: 229\n",
    "C: 184 S: 4 WI: 37 first appeared at count 9 height: 282\n",
    "\n",
    "betting last bit of equation is actually 25-15 rather than 23. Feels like the right place intuitively, though I can't say exactly why.\n",
    "\n",
    "After a few minutes of thought, the why is obvious. The print statement is from the beginning of the cycle and does not account for the piece dropped in the 16th tick.\n",
    "\n",
    "\n"
   ]
  },
  {
   "cell_type": "code",
   "execution_count": 93,
   "id": "4d725b22-8bdf-482d-93e7-5c9d8206885a",
   "metadata": {},
   "outputs": [
    {
     "data": {
      "text/plain": [
       "1514285714286"
      ]
     },
     "execution_count": 93,
     "metadata": {},
     "output_type": "execute_result"
    }
   ],
   "source": [
    "15 + (53*28571428571) + (23-15)"
   ]
  },
  {
   "cell_type": "markdown",
   "id": "8c223c1c-53ba-431e-8c24-6790a79c29aa",
   "metadata": {},
   "source": [
    "actual numbers from puzzle set:\n",
    "\n",
    "9 18\n",
    "10 22\n",
    "11 22\n",
    "804 1310\n",
    "805 1314\n",
    "806 1316\n",
    "C: 3410 S: 0 WI: 52 first appeared at count 10 height: 5386\n",
    "C: 5105 S: 0 WI: 52 first appeared at count 10 height: 8057\n",
    "C: 6800 S: 0 WI: 52 first appeared at count 10 height: 10728\n",
    "C: 8495 S: 0 WI: 52 first appeared at count 10 height: 13399\n",
    "C: 10190 S: 0 WI: 52 first appeared at count 10 height: 16070\n",
    "\n",
    "\n",
    "cyclic period is 1695 cycles, and accumulates 2671 height per.\n",
    "starts on cycle 10\n",
    "\n",
    "(tot-start) / 1695 = 589970501.4690266\n",
    "(tot-start) % 1695 = 795\n",
    "\n",
    "\n",
    "so height should be (height at start of cycle) + (cycle height * 589970501) + (cycle height at (start+795) - height at start)\n",
    "\n",
    "yup. Was right, off by one in the last part, is (start+796). Got it in first guess. (intuitiion was good. Reasoning above.)"
   ]
  },
  {
   "cell_type": "code",
   "execution_count": 94,
   "id": "4c68976c-4268-463c-b81b-632539b365f6",
   "metadata": {},
   "outputs": [
    {
     "data": {
      "text/plain": [
       "1575811209487"
      ]
     },
     "execution_count": 94,
     "metadata": {},
     "output_type": "execute_result"
    }
   ],
   "source": [
    "22 + (2671*589970501) + (1316-22)"
   ]
  }
 ],
 "metadata": {
  "kernelspec": {
   "display_name": "Python 3 (ipykernel)",
   "language": "python",
   "name": "python3"
  },
  "language_info": {
   "codemirror_mode": {
    "name": "ipython",
    "version": 3
   },
   "file_extension": ".py",
   "mimetype": "text/x-python",
   "name": "python",
   "nbconvert_exporter": "python",
   "pygments_lexer": "ipython3",
   "version": "3.10.8"
  }
 },
 "nbformat": 4,
 "nbformat_minor": 5
}
