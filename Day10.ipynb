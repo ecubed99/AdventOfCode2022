{
 "cells": [
  {
   "cell_type": "code",
   "execution_count": 1,
   "id": "b09d75ed-41fd-418c-b797-16cb4cb415a1",
   "metadata": {},
   "outputs": [],
   "source": [
    "# handy imports to have\n",
    "%matplotlib inline\n",
    "from sympy import symbols, Eq, solve\n",
    "import math\n",
    "from itertools import combinations_with_replacement , permutations, combinations, count\n",
    "import numpy as np\n",
    "import time\n",
    "import functools\n",
    "from tqdm.notebook import trange, tqdm\n",
    "import ipywidgets as widgets\n",
    "import matplotlib.pyplot as plt\n",
    "from collections import Counter, deque\n",
    "import more_itertools as mit"
   ]
  },
  {
   "cell_type": "code",
   "execution_count": 19,
   "id": "58b0ea04-84ff-4f6f-93be-58525dc9dcb1",
   "metadata": {},
   "outputs": [],
   "source": [
    "prog = ['noop', 'addx 3', 'addx -5']"
   ]
  },
  {
   "cell_type": "code",
   "execution_count": 65,
   "id": "ccbb0925-2c20-4d9a-af53-87e3582da858",
   "metadata": {},
   "outputs": [],
   "source": [
    "# example\n",
    "prog = ['addx 15', 'addx -11', 'addx 6', 'addx -3', 'addx 5', 'addx -1', 'addx -8', 'addx 13', 'addx 4', 'noop', 'addx -1', 'addx 5', 'addx -1', 'addx 5', 'addx -1', 'addx 5', 'addx -1', 'addx 5', 'addx -1', 'addx -35', 'addx 1', 'addx 24', 'addx -19', 'addx 1', 'addx 16', 'addx -11', 'noop', 'noop', 'addx 21', 'addx -15', 'noop', 'noop', 'addx -3', 'addx 9', 'addx 1', 'addx -3', 'addx 8', 'addx 1', 'addx 5', 'noop', 'noop', 'noop', 'noop', 'noop', 'addx -36', 'noop', 'addx 1', 'addx 7', 'noop', 'noop', 'noop', 'addx 2', 'addx 6', 'noop', 'noop', 'noop', 'noop', 'noop', 'addx 1', 'noop', 'noop', 'addx 7', 'addx 1', 'noop', 'addx -13', 'addx 13', 'addx 7', 'noop', 'addx 1', 'addx -33', 'noop', 'noop', 'noop', 'addx 2', 'noop', 'noop', 'noop', 'addx 8', 'noop', 'addx -1', 'addx 2', 'addx 1', 'noop', 'addx 17', 'addx -9', 'addx 1', 'addx 1', 'addx -3', 'addx 11', 'noop', 'noop', 'addx 1', 'noop', 'addx 1', 'noop', 'noop', 'addx -13', 'addx -19', 'addx 1', 'addx 3', 'addx 26', 'addx -30', 'addx 12', 'addx -1', 'addx 3', 'addx 1', 'noop', 'noop', 'noop', 'addx -9', 'addx 18', 'addx 1', 'addx 2', 'noop', 'noop', 'addx 9', 'noop', 'noop', 'noop', 'addx -1', 'addx 2', 'addx -37', 'addx 1', 'addx 3', 'noop', 'addx 15', 'addx -21', 'addx 22', 'addx -6', 'addx 1', 'noop', 'addx 2', 'addx 1', 'noop', 'addx -10', 'noop', 'noop', 'addx 20', 'addx 1', 'addx 2', 'addx 2', 'addx -6', 'addx -11', 'noop', 'noop', 'noop']"
   ]
  },
  {
   "cell_type": "code",
   "execution_count": 73,
   "id": "d2a48570-27d8-45c9-97a0-16a10b94b91e",
   "metadata": {},
   "outputs": [],
   "source": [
    "# problem input, p1 = 13740, p2 = ZUPRFECL\n",
    "prog = ['addx 1', 'addx 4', 'addx -2', 'addx 3', 'addx 3', 'addx 1', 'noop', 'addx 5', 'noop', 'noop', 'noop', 'addx 5', 'addx 2', 'addx 3', 'noop', 'addx 2', 'addx 4', 'noop', 'addx -1', 'noop', 'addx 3', 'addx -10', 'addx -17', 'noop', 'addx -3', 'addx 2', 'addx 25', 'addx -24', 'addx 2', 'addx 5', 'addx 2', 'addx 3', 'noop', 'addx 2', 'addx 14', 'addx -9', 'noop', 'addx 5', 'noop', 'noop', 'addx -2', 'addx 5', 'addx 2', 'addx -5', 'noop', 'noop', 'addx -19', 'addx -11', 'addx 5', 'addx 3', 'noop', 'addx 2', 'addx 3', 'addx -2', 'addx 2', 'noop', 'addx 3', 'addx 4', 'noop', 'noop', 'addx 5', 'noop', 'noop', 'noop', 'addx 5', 'addx -3', 'addx 8', 'noop', 'addx -15', 'noop', 'addx -12', 'addx -9', 'noop', 'addx 6', 'addx 7', 'addx -6', 'addx 4', 'noop', 'noop', 'noop', 'addx 4', 'addx 1', 'addx 5', 'addx -11', 'addx 29', 'addx -15', 'noop', 'addx -12', 'addx 17', 'addx 7', 'noop', 'noop', 'addx -32', 'addx 3', 'addx -8', 'addx 7', 'noop', 'addx -2', 'addx 5', 'addx 2', 'addx 6', 'addx -8', 'addx 5', 'addx 2', 'addx 5', 'addx 17', 'addx -12', 'addx -2', 'noop', 'noop', 'addx 7', 'addx 9', 'addx -8', 'addx 2', 'addx -33', 'addx -1', 'addx 2', 'noop', 'addx 26', 'addx -22', 'addx 19', 'addx -16', 'addx 8', 'addx -1', 'addx 3', 'addx -2', 'addx 2', 'addx -17', 'addx 24', 'addx 1', 'noop', 'addx 5', 'addx -1', 'noop', 'addx 5', 'noop', 'noop', 'addx 1', 'noop', 'noop']"
   ]
  },
  {
   "cell_type": "code",
   "execution_count": 88,
   "id": "d87f5f56-5519-4c4e-bbe5-3131b9bc52e3",
   "metadata": {},
   "outputs": [
    {
     "name": "stdout",
     "output_type": "stream",
     "text": [
      "P1:  13740\n",
      "P2:\n",
      "$$$$ $  $ $$$  $$$  $$$$ $$$$  $$  $    \n",
      "   $ $  $ $  $ $  $ $    $    $  $ $    \n",
      "  $  $  $ $  $ $  $ $$$  $$$  $    $    \n",
      " $   $  $ $$$  $$$  $    $    $    $    \n",
      "$    $  $ $    $ $  $    $    $  $ $    \n",
      "$$$$  $$  $    $  $ $    $$$$  $$  $$$$ \n",
      " \n"
     ]
    }
   ],
   "source": [
    "acc = 1\n",
    "pc = 0\n",
    "\n",
    "signal_strength = [0 for i in range(0, len(prog)*2)]\n",
    "display_buffer = [' ' for i in range(0, 241)]\n",
    "\n",
    "char = '$'\n",
    "\n",
    "for inst in prog:\n",
    "    if acc-1 <= pc%40 <= acc+1:\n",
    "            display_buffer[pc] = char\n",
    "    pc += 1\n",
    "    signal_strength[pc] = acc * pc\n",
    "    if inst != 'noop':\n",
    "        if acc-1 <= pc%40 <= acc+1:\n",
    "            display_buffer[pc] = char\n",
    "        pc += 1\n",
    "        signal_strength[pc] = acc * pc\n",
    "        acc += int(inst.split(' ')[-1])\n",
    "\n",
    "\n",
    "        \n",
    "checkpoints = [20, 60, 100, 140, 180, 220]\n",
    "\n",
    "    \n",
    "print('P1: ', sum(signal_strength[i] for i in checkpoints))\n",
    "\n",
    "print('P2:')\n",
    "for i in range(0, 245, 40):\n",
    "    print(''.join(display_buffer[i:i+40]))\n",
    "    \n",
    "\n",
    "    "
   ]
  }
 ],
 "metadata": {
  "kernelspec": {
   "display_name": "Python 3 (ipykernel)",
   "language": "python",
   "name": "python3"
  },
  "language_info": {
   "codemirror_mode": {
    "name": "ipython",
    "version": 3
   },
   "file_extension": ".py",
   "mimetype": "text/x-python",
   "name": "python",
   "nbconvert_exporter": "python",
   "pygments_lexer": "ipython3",
   "version": "3.10.8"
  }
 },
 "nbformat": 4,
 "nbformat_minor": 5
}
