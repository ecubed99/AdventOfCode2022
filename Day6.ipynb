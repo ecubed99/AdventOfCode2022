{
 "cells": [
  {
   "cell_type": "code",
   "execution_count": 614,
   "id": "6c4b68b0-117b-45a5-b5e0-789c868a3d85",
   "metadata": {},
   "outputs": [],
   "source": [
    "# handy imports to have\n",
    "%matplotlib inline\n",
    "from sympy import symbols, Eq, solve\n",
    "import math\n",
    "from itertools import combinations_with_replacement , permutations, combinations, count\n",
    "import numpy as np\n",
    "import time\n",
    "import functools\n",
    "from tqdm.notebook import trange, tqdm\n",
    "import ipywidgets as widgets\n",
    "import matplotlib.pyplot as plt\n",
    "from collections import Counter, deque"
   ]
  },
  {
   "cell_type": "code",
   "execution_count": 31,
   "id": "dd88de2f-785d-43b1-9c14-71a4e00ecccc",
   "metadata": {},
   "outputs": [],
   "source": [
    "# sample inputs for testing\n",
    "buffers = ['mjqjpqmgbljsphdztnvjfqwrcgsmlb', 'bvwbjplbgvbhsrlpgdmjqwftvncz', 'nppdvjthqldpwncqszvftbrmjlhg', 'nznrnfrfntjfmvfwmzdfjlvtqnbhcprsg', 'zcfzfwzzqfrljwzlrfnpqdbhtmscgvjw']"
   ]
  },
  {
   "cell_type": "code",
   "execution_count": 70,
   "id": "f48996a4-0b8a-47e6-9169-1e337f87ffe9",
   "metadata": {},
   "outputs": [],
   "source": [
    "# data set for submission\n",
    "problemBuffer = ['htsslsmstsrrhlrrllqppfnpnzzqtqtjqttslttmvmsmbbnpbbznzjjmrmsrrnjjzczcfcqchcnnhrnrzrnrzzddtrrpjrprbpbwbswsqswqswsqsqffgngtgwtwbtbbhhslsrsmrmffgcgtcgcppnbpnpbnpptcptpltthjhwwlttrrlldzldzzzlssccrfrqfrfdfldfldfdzfdzzcnznwznzqqzpqzqdzzbbslbljlqjjvzjzgzqgqqqvsvffzjfzfmzzrjrhjhrhcrhhtgtmggchggcsggvtttwmmsspmpffzpfpjjnwwnpwwdttcfcmmlblwlvvqrqddcdwcwnnfqnqdnnncggflfdftddtftqthqhrrmsrmsrsffbccjnnjjgddppjmmldllhttqvqzvzrvrsslnlplrprtprtttnvnsvsvzzdndrnnnlznzcnnzwwzjjsnjnwjwqqczqcqwqppqnqqllgblbhhbbzbjzzwjzzrqzqggdppgcgwcclglhhwwgcccgcvvpbbrzzwszsqqjqrrczzvmvpprllsgstsnnnrvvsszgzddzttbccmjccwtccrbccnssdqsdsqqfgqfqbfqfjqqzqqmhmwhwffsjjcjffqmmwjwhjjqttpvvgddzjdddwndwdjdldgdsdmdzmdzmzqqszzcwwwjbbvvlplnpndnddjcjcttrgrggjvjsjvjssnsmshmhrmhhfvvdqqppmbbjnbnzzzwlzzfmmlttvptvpphlhwhzzwffcsfsppdssvsvgsgcscmmdwwpggtcgttmlmglgmmcsccmmgffnvvvvsscstctptzzcmcsclcffnwwndnwddmgmfmvffntfnndgdrrbmrrvprrjnjcnjjsgjgmmjjjqwqhhlfljfljlclttrgttmdmhhcncwncnmccnmnqqmhmwmdwdmdfdttnggcscfsftttcjchhqghhtdthtwtgwgttlffphfhtftpfttlgtltblljmljjsmsszgsghhnnmvnmnvmvmhvvtmmdqdppclplqljllzppwgpgvpvjpvvlwldlcdcmvfrbcqfdrgqjdmpvczgmtrbhtfgbctjghwfmpqtprlnvzvbmhnmgsnbcqpdqhtstncmtrvwmjzzmsbprfvmszgvdwjwchzcvmzncfblffwvwwrdqpfnvrtlftnvhcqpwfgzdnmpqthblmqzhbdbdhmqvscfrpbjbgjgdndhlnnpcrrmrlghcwvmmmhbvdsrztbpdvhwhsphmgblzfpflhnbrvjsgsbvgcfwdlbmbsmbqfwczhhbbwntsczhljgvdwpsfmjppmdwcfchhvtrwlfgqrzbtzndqwbwqflpthhgtzrfmspfnlrrvrjttwnzzfsbzlvfwlntvcqhfntllsrdgqjdbrbvnmjgfsqshmcgtsmlrzjmmqbpfdfhlghqjnjrcnzvvmbwhwfwpbbsmpdmvvznstqpjwmthncjsvfmbhwtbfqgfmvhhwrwzrzccbmmrngfbcqgsdjlfwrlzqwrbhvhmjzqqtgqvjwgllhhgphjthwnscndjfhrdzjctthwfszztvtzcnvsnfdwnvrrbjzplgnghfsvnflhctjntrpzfgjnfzlmwzrvqcfdqqscrffjshhgmvlgdtqpbllfdspdhcccqbmpqcgctljwzdszbfzsltfmdrcvmjqmpvzzhnczlfdbrmsvfffmfzjvnthghqgtnvjtflzrrnrhqshtzslbmbghvtqcmbdgzcmmrpbtqlzbzjhhgfcbrbcztlhdcfqccqsgdqdfrvlsprbhwhtmjfbzlzfpcslcddzdhbhstvqjgdfwdwzfhrzpthnzgmzrrbrszvcwhbdczzcnqsqrwdpmgdmcdmccmfdwdfmzpbbsdtjlmlvcnvhhgcltwmpzqmjlpbsbfrrntrbmrrmgqrdsbfcgnqvnmwwgnmvvpjzpwbvwfzzfcfrbgdshrvbpdlbpzdsvjnrsmfttqgbngjbqcnhhhmrnlgwjnlfcsdwccqqlzcdrcqnjlmsfqldgdmwlctstcvqbvvwvhvrnhvtgpcnsstnhvlttdnstlndnpdglqlbgggqlwqpfztgzvhqqwbctvgtrmrbpmvwlztsfbrmhhpfdtnsjcjmngsqtzvhqjnwmgcrjbhvghpnrjlrhjfrfrmbzvprpzlcshbqtlnlmqmfhsmbznjmpzwljccngbsvqqmghqsqwwmtqhgddnpcmmlfvmplgptzmfsmpntprnwlpjmsdsntpmpnhwlqgfwslrnjlmvhvqsnlcssvrqvtvfhhghbhnvmpngtdmrcmftjmwgnptbmjcwvrqqbczmtdprlltcjcggvffvjwdthbhvjvhbsmfnstqvczmvsgsqfjmddszzrwnbrbvlhgltjddczwpzpsgfgbtmgmssbszhjfbprpbgsqpvgwfnmpcdwfzwbfbtfwhjbjgrctcwqgfhpvjpjssmcpppwpbnlfsrmbzqdpmpmqjtzqmqswpfhfvfltwnfbltvdmfgmpbhzzdrbtnmmjfqgtrgmrbsgplfrmlnjrggtslngnphcvcwvqsdftlhddhpsdwlhzcrfwgwbndplwjmtrltmswwdqjpgmmcdchllzdgpfpfrvqrmvppvzcrvbswzdclnqnqvmfvjtpzpvzlmbngtrrjwpgqjgrrqbqwcvjlgqzddtcfmmrqtnjppqvztfpdrdmjpsqqvzrhwjgvdwwdtmrzrvhwgsqvjjrtsdtwfwhrbcsqdblhgwzghrqrqtfbzszrmjqbhrtsrcfjlzbcjmdnpthrtbhtzmhgpfcqndwpmtlvzschzzcqdnzdrfhczsrscvttlpslrzgvwprwppmpfjqwhtnhzcdjjwmsnvqzmtlzsdpbdtdtsmbmjszsglrldcsgtnmbgsjfmnrftnmvnjtswrmdthvstmdlsnsmrbqhdlpnmnhjhcccgnzrrsljvwswmhjqrrfbwwhgrcttsdcjsdtlgmgblfnvwmgztbbzlbrdnspfnvwvhzlztdhlzhwwppgwwvrhfbjvrmjpjflqzbdnlvptmrsggqmzgmzlsdzbfqnqzzdnzfgmhncvwmgrcfrmlnwzcwdsvtwbvcqpmgcczbnnfdrlsgnfgnpbdstdmwhlprnzvhjpznsgwhfhzfwmjsvcbwccpsnfgbzrltcbwczcmzwljcswgwjnhwtjrjvgrggsrqszscrjcghnwdzpzhttrjcgwvmtcwmrhvwptlgfjpdjpnhphmzdgfdvsncswbdvjdtsgdtlsgjljlczgrwbswtbwrcfpmhgfjfnhpsmfrrtcjmpvvscmgftpprdmbjwcvhzbrmpbvhgzwftwtvvhrjmljgjhbpnbnfntmjhvjrzwlqbtqlrfbblgmfsbgzhhscgwgzrwvflnfctngtwbvdbbgspntclnbwgpppjgbrlqvtfznpdttrsplvjfsgbjwjprbvdfvjtffbhsjwgbsfschfnmlqdfzmdwzvfctjjvzncdvrdttlpvpgvsssflpfnrzgfznzlldrbgnnztngtlbbrmrmlfnnspsvvsfzfbmsblmzdwqcrftvnbvdlhgdqjtglclpzrchtlffrfwslqjvbfpvnhmdgqrcjtbhmjqwqzpfndqbwldbzmwqsptdccczmhwmdqqzcqvmbbnmqndtspmbtggcghdhsfgrjgvwjdbwmltbhdvdtgqnpqhwmhzpzbqjtnlftqrjbsvtwtgpmvpnfwdtsjgdtfnlntpgrmwphphrrzhbdrbzhtqddwvptdllntjzldzrndhfjwdfnmtjmjtfmndbvlwgmlcmwwlpfdjwbfznbllbmqrlmvljngvpmdlqmvdvwvpqwlbqssqcbnrmhdvrzwljstghmhntwsbqmnlpgthbwmrznbbggthtjhnndnqbzmcrtftcbnpctqjzghdfcvmmvpqwtnntstlspfsgwfdbrlsbwgbhhbfcvwrjclsgmmbqmmjwtdjqppjvcbnbvfwczlqzbtnlhzhssglgnlm']"
   ]
  },
  {
   "cell_type": "code",
   "execution_count": 584,
   "id": "5af0f905-12ac-40de-8cc0-b907320a0728",
   "metadata": {},
   "outputs": [
    {
     "data": {
      "text/plain": [
       "False"
      ]
     },
     "execution_count": 584,
     "metadata": {},
     "output_type": "execute_result"
    }
   ],
   "source": [
    "#bigO( n log n )  but has zero additional memory considerations\n",
    "def uniqueString(s):\n",
    "    for i, c in enumerate(s):\n",
    "        if c in s[i+1:]:\n",
    "            return False\n",
    "    return True\n",
    "        \n",
    "uniqueString('abacd')"
   ]
  },
  {
   "cell_type": "code",
   "execution_count": 649,
   "id": "f4dbd95d-54be-4242-a58f-ef2b1fc57c54",
   "metadata": {},
   "outputs": [
    {
     "name": "stdout",
     "output_type": "stream",
     "text": [
      "19\n",
      "23\n",
      "23\n",
      "29\n",
      "26\n",
      "CPU times: user 43 µs, sys: 7 µs, total: 50 µs\n",
      "Wall time: 45.8 µs\n"
     ]
    }
   ],
   "source": [
    "%%time \n",
    "\n",
    "# when using the above function ( O( n lg n) ) averages 40-45 µs\n",
    "# when using the below function ( O( n ) w/dict) averages 95 µs\n",
    "#      so clearly the extra complexity is cheaper than allocating the memory for dict\n",
    "# when using the below function ( O( n ) w/sets) averages 60 µs\n",
    "#      better than count but still malloc adds more than the time complexity savings\n",
    "# numpy an order of magnitude slower! averaging 1-2 ms (not µs).\n",
    "#      maybe faster if already in np arrays? yes, but not enough - averaging 800 µs \n",
    "\n",
    "for s in buffers: \n",
    "#for s in problemBuffer:\n",
    "    length = 14                             # change this to solve part 1 (4) or part 2 (14)\n",
    "    for i in range(0, len(s)-length):\n",
    "        if uniqueString(s[i:i+length]):\n",
    "            print(i+length)\n",
    "            break"
   ]
  },
  {
   "cell_type": "code",
   "execution_count": null,
   "id": "73237034-ebbc-49fe-b71c-68177ee67a25",
   "metadata": {},
   "outputs": [],
   "source": []
  },
  {
   "cell_type": "markdown",
   "id": "b0d4451b-98e2-478d-9010-afdd86fccf1d",
   "metadata": {},
   "source": [
    "## Playing around with other options for solution:\n"
   ]
  },
  {
   "cell_type": "code",
   "execution_count": 654,
   "id": "230729d7-dd0a-462a-8ed1-2de1690ac176",
   "metadata": {},
   "outputs": [
    {
     "data": {
      "text/plain": [
       "False"
      ]
     },
     "execution_count": 654,
     "metadata": {},
     "output_type": "execute_result"
    }
   ],
   "source": [
    "# O(n) complexity but creates a dictionary, O(n) memory complexity (n=len(string))\n",
    "def uniqueString(s):\n",
    "    counts = Counter(s)\n",
    "    return len(s) == len(counts)\n",
    "\n",
    "uniqueString('abdvd')\n",
    "    "
   ]
  },
  {
   "cell_type": "code",
   "execution_count": 655,
   "id": "a6934647-f1c4-4b65-b534-494a0a940c6a",
   "metadata": {},
   "outputs": [
    {
     "data": {
      "text/plain": [
       "False"
      ]
     },
     "execution_count": 655,
     "metadata": {},
     "output_type": "execute_result"
    }
   ],
   "source": [
    "# again O(n) complexity and O(n) memory\n",
    "\n",
    "def uniqueString(s):\n",
    "    chars = set(list(s))\n",
    "    return len(chars) == len(s)\n",
    " \n",
    "\n",
    "uniqueString('abbcd')"
   ]
  },
  {
   "cell_type": "code",
   "execution_count": 656,
   "id": "91ee23a3-9115-4ff7-82b3-1e2c44447bd4",
   "metadata": {},
   "outputs": [
    {
     "data": {
      "text/plain": [
       "False"
      ]
     },
     "execution_count": 656,
     "metadata": {},
     "output_type": "execute_result"
    }
   ],
   "source": [
    "# lets try numpy\n",
    "# again 0(n0 complexity and 0(n) memory\n",
    "\n",
    "def uniqueString(s):\n",
    "    return len(np.unique(list(s))) == len(s)\n",
    "\n",
    "uniqueString('abdcd')"
   ]
  },
  {
   "cell_type": "code",
   "execution_count": null,
   "id": "9208a5c9-f3f5-4dd2-98e9-eef3c93d87da",
   "metadata": {},
   "outputs": [],
   "source": []
  },
  {
   "cell_type": "markdown",
   "id": "d8d9c381-f63e-4240-8cb2-bdd6f57b4a46",
   "metadata": {},
   "source": [
    "## testing with data already in NP arrays"
   ]
  },
  {
   "cell_type": "code",
   "execution_count": 310,
   "id": "a12530d4-c55a-4e29-9006-bad883dce53f",
   "metadata": {},
   "outputs": [
    {
     "data": {
      "text/plain": [
       "array([array(['m', 'j', 'q', 'j', 'p', 'q', 'm', 'g', 'b', 'l', 'j', 's', 'p',\n",
       "              'h', 'd', 'z', 't', 'n', 'v', 'j', 'f', 'q', 'w', 'r', 'c', 'g',\n",
       "              's', 'm', 'l', 'b'], dtype='<U1')                               ,\n",
       "       array(['b', 'v', 'w', 'b', 'j', 'p', 'l', 'b', 'g', 'v', 'b', 'h', 's',\n",
       "              'r', 'l', 'p', 'g', 'd', 'm', 'j', 'q', 'w', 'f', 't', 'v', 'n',\n",
       "              'c', 'z'], dtype='<U1')                                         ,\n",
       "       array(['n', 'p', 'p', 'd', 'v', 'j', 't', 'h', 'q', 'l', 'd', 'p', 'w',\n",
       "              'n', 'c', 'q', 's', 'z', 'v', 'f', 't', 'b', 'r', 'm', 'j', 'l',\n",
       "              'h', 'g'], dtype='<U1')                                         ,\n",
       "       array(['n', 'z', 'n', 'r', 'n', 'f', 'r', 'f', 'n', 't', 'j', 'f', 'm',\n",
       "              'v', 'f', 'w', 'm', 'z', 'd', 'f', 'j', 'l', 'v', 't', 'q', 'n',\n",
       "              'b', 'h', 'c', 'p', 'r', 's', 'g'], dtype='<U1')                ,\n",
       "       array(['z', 'c', 'f', 'z', 'f', 'w', 'z', 'z', 'q', 'f', 'r', 'l', 'j',\n",
       "              'w', 'z', 'l', 'r', 'f', 'n', 'p', 'q', 'd', 'b', 'h', 't', 'm',\n",
       "              's', 'c', 'g', 'v', 'j', 'w'], dtype='<U1')                     ],\n",
       "      dtype=object)"
      ]
     },
     "execution_count": 310,
     "metadata": {},
     "output_type": "execute_result"
    }
   ],
   "source": [
    "# np-izing the arrays\n",
    "npbuffers = np.array([np.array(list(i)) for i in buffers], dtype=object)\n",
    "\n",
    "npbuffers"
   ]
  },
  {
   "cell_type": "code",
   "execution_count": 354,
   "id": "c62a8b07-e56a-49ce-9794-6721a0ef3ba1",
   "metadata": {},
   "outputs": [
    {
     "name": "stdout",
     "output_type": "stream",
     "text": [
      "19\n",
      "23\n",
      "23\n",
      "29\n",
      "26\n",
      "CPU times: user 747 µs, sys: 1.19 ms, total: 1.94 ms\n",
      "Wall time: 1.11 ms\n"
     ]
    }
   ],
   "source": [
    "%%time \n",
    "# testing with already np-ized arrays\n",
    "for s in npbuffers: \n",
    "#for s in npbuffers:\n",
    "    length = 14                             # change this to solve part 1 (4) or part 2 (14)\n",
    "    for i in range(0, len(s)-length):\n",
    "        if uniqueStringNP(s[i:i+length]):\n",
    "            print(i+length)\n",
    "            break"
   ]
  },
  {
   "cell_type": "code",
   "execution_count": 352,
   "id": "526d354e-4dc3-4235-ace5-731d20e5019d",
   "metadata": {},
   "outputs": [
    {
     "data": {
      "text/plain": [
       "True"
      ]
     },
     "execution_count": 352,
     "metadata": {},
     "output_type": "execute_result"
    }
   ],
   "source": [
    "def uniqueStringNP(s):\n",
    "    if len(np.unique(s)) == len(s):\n",
    "        return True\n",
    "    \n",
    "    return False\n",
    "\n",
    "uniqueString(np.array(list('abcd')))"
   ]
  },
  {
   "cell_type": "code",
   "execution_count": null,
   "id": "54bfebba-bf2b-404b-90f3-472073d81b48",
   "metadata": {},
   "outputs": [],
   "source": []
  },
  {
   "cell_type": "markdown",
   "id": "ff801d2d-d261-4d8d-a16c-4c8c640c1cb6",
   "metadata": {},
   "source": [
    "## Looking at code from Reddit solution thread"
   ]
  },
  {
   "cell_type": "code",
   "execution_count": 891,
   "id": "31c58bc6-3539-4fe0-ad74-a048bdfa02c0",
   "metadata": {},
   "outputs": [
    {
     "name": "stdout",
     "output_type": "stream",
     "text": [
      "16.9 µs ± 212 ns per loop (mean ± std. dev. of 7 runs, 100,000 loops each)\n"
     ]
    }
   ],
   "source": [
    "%%timeit\n",
    "\n",
    "# u/pred code from reddit\n",
    "#     averaging 60 µs, so on par with solution using sets above\n",
    "# u/maxmage005 code from reddit\n",
    "#     averaging 75-80 µs or so, on par with dict/counts method above\n",
    "# u/angrassa code from reddit\n",
    "#     averaging about 60 µs, again on par with sets above\n",
    "# u/speedtew12ve code from reddit\n",
    "#     averaging high 40 to low 50 µs, fastest outside solution yet. Very close to mine\n",
    "# matt's code v1 averaging 55-56\n",
    "# v2 is in the same range, low 50s\n",
    "\n",
    "# timeit: matt v3 - 17.9 -> 16.9 with modifications\n",
    "# speedtew12ve: 17.6\n",
    "\n",
    "for s in buffers:\n",
    "    #print(uniqueStringReddit(s, 14))\n",
    "    _ = uniqueStringReddit(s, 14)"
   ]
  },
  {
   "cell_type": "code",
   "execution_count": 886,
   "id": "5d8144be-31fc-4d37-9def-5f0df39a5d02",
   "metadata": {},
   "outputs": [],
   "source": [
    "# u/pred code from reddit\n",
    "def uniqueStringReddit(data, length):\n",
    "    return next(i for i in count() if len(set(data[i - length : i])) == length)\n"
   ]
  },
  {
   "cell_type": "code",
   "execution_count": 491,
   "id": "42d0a6a4-c843-4b08-930b-256ece927514",
   "metadata": {},
   "outputs": [
    {
     "data": {
      "text/plain": [
       "7"
      ]
     },
     "execution_count": 491,
     "metadata": {},
     "output_type": "execute_result"
    }
   ],
   "source": [
    "# u/maxmage006 code from reddit\n",
    "\n",
    "def uniqueStringReddit(msg, min_len):\n",
    "    idxs = [\n",
    "        i + min_len\n",
    "        for i, lst in enumerate(zip(*list(msg[j:] for j in range(min_len))))\n",
    "        if len(set(lst)) == min_len\n",
    "    ]\n",
    "\n",
    "    return idxs[0]\n",
    "\n",
    "uniqueStringReddit(buffers[0], 4)"
   ]
  },
  {
   "cell_type": "code",
   "execution_count": 561,
   "id": "d8c621e7-eb94-4933-8d55-698fb5ef6553",
   "metadata": {},
   "outputs": [
    {
     "data": {
      "text/plain": [
       "7"
      ]
     },
     "execution_count": 561,
     "metadata": {},
     "output_type": "execute_result"
    }
   ],
   "source": [
    "# u/angrassa code from reddit\n",
    "\n",
    "def uniqueStringReddit(data, lenght):      # typo was his, I just carried it over\n",
    "\n",
    "    buffer = deque(maxlen=lenght)\n",
    "    for i, ch in enumerate(data):\n",
    "        buffer.append(ch)\n",
    "        if len(set(buffer)) == lenght:\n",
    "            return i + 1\n",
    "\n",
    "    return -1\n",
    "\n",
    "uniqueStringReddit(buffers[0], 4)"
   ]
  },
  {
   "cell_type": "code",
   "execution_count": 888,
   "id": "0625b1ca-4eb3-440a-9ebc-c14bb95b1a55",
   "metadata": {},
   "outputs": [
    {
     "data": {
      "text/plain": [
       "7"
      ]
     },
     "execution_count": 888,
     "metadata": {},
     "output_type": "execute_result"
    }
   ],
   "source": [
    "# u/speedtew12ve code from reddit:\n",
    "# this uses sets, but is faster than my solution using sets. overhead from extra call in my code?\n",
    "\n",
    "def uniqueStringReddit(datastream : str, buffer_len: int) -> int:\n",
    "\n",
    "    buffer = set()\n",
    "    start = 0\n",
    "    stop = len(datastream)    \n",
    "\n",
    "    for idx in range(start, stop):\n",
    "\n",
    "        buffer = set(datastream[idx:idx+buffer_len])\n",
    "\n",
    "        if len(buffer) == buffer_len:\n",
    "            return idx + buffer_len\n",
    "    \n",
    "uniqueStringReddit(buffers[0], 4)"
   ]
  },
  {
   "cell_type": "code",
   "execution_count": 890,
   "id": "e7d7f0eb-11fa-4e66-bbc2-becbd776816b",
   "metadata": {},
   "outputs": [],
   "source": [
    "# matt code, take 3\n",
    "\n",
    "from itertools import count\n",
    "def uniqueStringReddit(s, size):\n",
    "    for ix in count(start=size):\n",
    "        if len(set(s[ix-size:ix])) == size:\n",
    "            return ix"
   ]
  }
 ],
 "metadata": {
  "kernelspec": {
   "display_name": "Python 3 (ipykernel)",
   "language": "python",
   "name": "python3"
  },
  "language_info": {
   "codemirror_mode": {
    "name": "ipython",
    "version": 3
   },
   "file_extension": ".py",
   "mimetype": "text/x-python",
   "name": "python",
   "nbconvert_exporter": "python",
   "pygments_lexer": "ipython3",
   "version": "3.10.8"
  }
 },
 "nbformat": 4,
 "nbformat_minor": 5
}
