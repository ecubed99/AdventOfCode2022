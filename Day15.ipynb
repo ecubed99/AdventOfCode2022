{
 "cells": [
  {
   "cell_type": "code",
   "execution_count": 1,
   "id": "4d877046-a41f-4a69-87b6-35a9566ac625",
   "metadata": {},
   "outputs": [],
   "source": [
    "# handy imports to have\n",
    "%matplotlib inline\n",
    "from sympy import symbols, Eq, solve\n",
    "import math\n",
    "from itertools import combinations_with_replacement , permutations, combinations, count, chain\n",
    "import numpy as np\n",
    "import time\n",
    "import functools\n",
    "from tqdm.notebook import trange, tqdm\n",
    "import ipywidgets as widgets\n",
    "import matplotlib.pyplot as plt\n",
    "from collections import Counter, deque\n",
    "import more_itertools as mit\n",
    "import string\n",
    "import ast"
   ]
  },
  {
   "cell_type": "code",
   "execution_count": 78,
   "id": "e7be9e5b-b9f8-496b-974d-5c0135b1ed4b",
   "metadata": {},
   "outputs": [],
   "source": [
    "# sample input\n",
    "\n",
    "input_map = [[[2, 18], [-2, 15]], [[9, 16], [10, 16]], [[13, 2], [15, 3]], [[12, 14], [10, 16]], [[10, 20], [10, 16]], [[14, 17], [10, 16]], [[8, 7], [2, 10]], [[2, 0], [2, 10]], [[0, 11], [2, 10]], [[20, 14], [25, 17]], [[17, 20], [21, 22]], [[16, 7], [15, 3]], [[14, 3], [15, 3]], [[20, 1], [15, 3]] ]"
   ]
  },
  {
   "cell_type": "code",
   "execution_count": 85,
   "id": "aef57807-4ee5-4edc-ba8d-7aa0dacc84f3",
   "metadata": {},
   "outputs": [],
   "source": [
    "# puzzle input, part 1 = 4886370\n",
    "\n",
    "input_map = [[[220580, 684270], [436611, 263737]], [[3329538, 3016377], [3355914, 2862466]], [[2605308, 2023938], [2197530, 2271330]], [[1810202, 3423309], [1829362, 3182862]], [[480296, 3999646], [1694700, 4178942]], [[46556, 1283362], [ -91140, 1441882]], [[3741660, 3959257], [3537901, 3368697]], [[3399994, 700264], [3748004, 2000000]], [[1531981, 3801761], [1694700, 4178942]], [[193367, 2712458], [ -91140, 1441882]], [[3199067, 2194575], [3748004, 2000000]], [[1878117, 2578817], [2197530, 2271330]], [[2439089, 3168242], [1829362, 3182862]], [[273443, 171076], [436611, 263737]], [[3680413, 2477027], [3748004, 2000000]], [[3620241, 2904998], [3355914, 2862466]], [[1728351, 2895399], [1829362, 3182862]], [[1894207, 1168355], [2197530, 2271330]], [[856867, 3271314], [1829362, 3182862]], [[3056788, 2626224], [3355914, 2862466]], [[3598024, 3322247], [3537901, 3368697]], [[1662543, 3128823], [1829362, 3182862]], [[3992558, 1933059], [3748004, 2000000]], [[1844282, 2994285], [1829362, 3182862]], [[3604375, 3668021], [3537901, 3368697]], [[2569893, 3911832], [1694700, 4178942]], [[117970, 37503], [436611, 263737]], [[3951385, 3125577], [3537901, 3368697]], [[2482373, 2648092], [2197530, 2271330]], [[915040, 1835970], [ -91140, 1441882]], [[3047883, 3301452], [3537901, 3368697]], [[117432, 1503889], [ -91140, 1441882]], [[1136011, 261705], [436611, 263737]], [[2343111, 66183], [2081841,  -807749]], [[608229, 955721], [436611, 263737]], [[1189379, 3999750], [1694700, 4178942]], [[766640, 26597], [436611, 263737]], [[3891093, 2110588], [3748004, 2000000]]]"
   ]
  },
  {
   "cell_type": "code",
   "execution_count": 46,
   "id": "88362ba7-480a-446a-8931-5634df639164",
   "metadata": {},
   "outputs": [
    {
     "name": "stdout",
     "output_type": "stream",
     "text": [
      "x max: 68 | x min: 22 || y max: 63 | y min: 20\n",
      "000 ....................................................................\n",
      "001 ....................................................................\n",
      "002 ....................................................................\n",
      "003 ....................................................................\n",
      "004 ....................................................................\n",
      "005 ....................................................................\n",
      "006 ....................................................................\n",
      "007 ....................................................................\n",
      "008 ....................................................................\n",
      "009 ....................................................................\n",
      "010 ....................................................................\n",
      "011 ....................................................................\n",
      "012 ....................................................................\n",
      "013 ....................................................................\n",
      "014 ....................................................................\n",
      "015 ....................................................................\n",
      "016 ....................................................................\n",
      "017 ....................................................................\n",
      "018 ....................................................................\n",
      "019 ....................................................................\n",
      "020 ....................................................................\n",
      "021 ....................................................................\n",
      "022 ....................................................................\n",
      "023 ....................................................................\n",
      "024 ....................................................................\n",
      "025 ....................................................................\n",
      "026 ....................................................................\n",
      "027 ....................................................................\n",
      "028 ....................................................................\n",
      "029 ....................................................................\n",
      "030 ....................................................................\n",
      "031 ....................................................................\n",
      "032 ....................................................................\n",
      "033 ....................................................................\n",
      "034 ....................................................................\n",
      "035 ....................................................................\n",
      "036 ....................................................................\n",
      "037 ....................................................................\n",
      "038 ....................................................................\n",
      "039 ....................................................................\n",
      "040 ....................................................................\n",
      "041 ....................................................................\n",
      "042 ....................................................................\n",
      "043 ....................................................................\n",
      "044 ....................................................................\n",
      "045 ....................................................................\n",
      "046 ....................................................................\n",
      "047 ....................................................................\n",
      "048 ....................................................................\n",
      "049 ....................................................................\n",
      "050 ....................................................................\n",
      "051 ....................................................................\n",
      "052 ....................................................................\n",
      "053 ....................................................................\n",
      "054 ....................................................................\n",
      "055 ....................................................................\n",
      "056 ....................................................................\n",
      "057 ....................................................................\n",
      "058 ....................................................................\n",
      "059 ....................................................................\n",
      "060 ....................................................................\n",
      "061 ....................................................................\n",
      "062 ....................................................................\n",
      "-------------------\n",
      "000 ....................................................................\n",
      "001 ....................................................................\n",
      "002 ....................................................................\n",
      "003 ....................................................................\n",
      "004 ....................................................................\n",
      "005 ....................................................................\n",
      "006 ....................................................................\n",
      "007 ....................................................................\n",
      "008 ....................................................................\n",
      "009 ....................................................................\n",
      "010 ........................#...........................................\n",
      "011 .......................###..........................................\n",
      "012 ......................#####.........................................\n",
      "013 .....................#######........................................\n",
      "014 ....................#########.............#.........................\n",
      "015 ...................###########...........###........................\n",
      "016 ..................#############.........#####.......................\n",
      "017 .................###############.......#######......................\n",
      "018 ................#################.....#########.....................\n",
      "019 ...............###################.#.###########....................\n",
      "020 ..............##########S########################...................\n",
      "021 ...............###########################S#######..................\n",
      "022 ................###################S#############...................\n",
      "023 .................###################SB##########....................\n",
      "024 ..................#############################.....................\n",
      "025 ...................###########################......................\n",
      "026 ....................#########################.......................\n",
      "027 .....................#########S#######S#####........................\n",
      "028 ......................#######################.......................\n",
      "029 .....................#########################......................\n",
      "030 ....................####B######################.....................\n",
      "031 ...................###S#############.###########....................\n",
      "032 ....................#############################...................\n",
      "033 .....................#############################..................\n",
      "034 .....................#############S#######S########.................\n",
      "035 ....................B#############################..................\n",
      "036 ...................############SB################...................\n",
      "037 ..................##################S##########B....................\n",
      "038 .................#######S######################.....................\n",
      "039 ..................############################......................\n",
      "040 ...................#############S######S######......................\n",
      "041 ....................#########################.......................\n",
      "042 .....................#######..#############B........................\n",
      "043 ......................#####....###..#######.........................\n",
      "044 .......................###......#....#####..........................\n",
      "045 ........................#.............###...........................\n",
      "046 .......................................#............................\n",
      "047 ....................................................................\n",
      "048 ....................................................................\n",
      "049 ....................................................................\n",
      "050 ....................................................................\n",
      "051 ....................................................................\n",
      "052 ....................................................................\n",
      "053 ....................................................................\n",
      "054 ....................................................................\n",
      "055 ....................................................................\n",
      "056 ....................................................................\n",
      "057 ....................................................................\n",
      "058 ....................................................................\n",
      "059 ....................................................................\n",
      "060 ....................................................................\n",
      "061 ....................................................................\n",
      "062 ....................................................................\n",
      "26\n"
     ]
    }
   ],
   "source": [
    "# process input, get max sizes (this is only to confirm understanding, apparently max is HUGE and eats too much memory.\n",
    "# will re-write below without using a matrix (likely a set so duplicates get handled nicely)\n",
    "# was nice to confirm my assumptions though\n",
    "\n",
    "x_max = 0\n",
    "y_max = 0\n",
    "x_min = 0\n",
    "y_min = 0\n",
    "\n",
    "for pair in input_map:\n",
    "    [sx, sy],[bx, by] = pair\n",
    "    x_max = max(x_max, sx, bx)\n",
    "    y_max = max(y_max, sy, by)\n",
    "    x_min = min(x_min, sx, bx)\n",
    "    y_min = min(y_min, sy, by)\n",
    "    \n",
    "if x_min <= 0:\n",
    "    x_min = -1 * x_min\n",
    "    x_min += 20\n",
    "if y_min <= 0:\n",
    "    y_min = -1 * y_min\n",
    "    y_min += 20\n",
    "    \n",
    "x_max += 1 + x_min + 20\n",
    "y_max += 1 + y_min + 20\n",
    "\n",
    "print('x max:', x_max, '| x min:', x_min, '|| y max:', y_max, '| y min:', y_min)\n",
    "\n",
    "# build initial map\n",
    "\n",
    "signal_map = ['' for i in range(0, y_max)]\n",
    "for it, line in enumerate(signal_map):\n",
    "    signal_map[it] = ['.' for i in range(0, x_max)]\n",
    "    \n",
    "print_map()\n",
    "\n",
    "print('-------------------')\n",
    "\n",
    "\n",
    "# populate map with sensors and beacons\n",
    "# populate sensors and beacons\n",
    "\n",
    "for pair in input_map:\n",
    "    [sx, sy],[bx, by] = pair\n",
    "    sx += x_min\n",
    "    sy += y_min\n",
    "    bx += x_min\n",
    "    by += y_min\n",
    "    signal_map[sy][sx] = 'S'\n",
    "    signal_map[by][bx] = 'B'\n",
    "    plot_coverage(sx, sy, bx, by)\n",
    "    \n",
    "print_map()\n",
    "\n",
    "examine = signal_map[10+y_min]\n",
    "\n",
    "count = 0\n",
    "for c in examine:\n",
    "    if c != '.' and c != 'B' and c != 'S':\n",
    "        count += 1\n",
    "        \n",
    "print(count)\n"
   ]
  },
  {
   "cell_type": "code",
   "execution_count": 44,
   "id": "c4ad85c6-ea30-4ab3-9822-6498ac96c492",
   "metadata": {},
   "outputs": [],
   "source": [
    "def print_map(doit=False):\n",
    "    if len(signal_map) > 100 and not doit:\n",
    "        print('Map too large to display')\n",
    "        return\n",
    "    for i, line in enumerate(signal_map):\n",
    "        string = ''\n",
    "        for s in line:\n",
    "            string += s\n",
    "        print('%03d' % (i), string)"
   ]
  },
  {
   "cell_type": "code",
   "execution_count": null,
   "id": "d80fefa3-573b-420c-9a7a-981b719984ae",
   "metadata": {},
   "outputs": [],
   "source": [
    "def plot_coverage(sx, sy, bx, by):\n",
    "    \n",
    "    distance = abs(sy - by) + abs(sx - bx)\n",
    "    \n",
    "    for yc in range(sy-distance, sy+distance+1):\n",
    "        y_offset = distance - abs(yc - sy)\n",
    "        for xc in range(sx - y_offset, sx+y_offset+1):\n",
    "            if 0 <= xc < len(signal_map[0]) and 0 <= yc < len(signal_map):\n",
    "                if signal_map[yc][xc] == '.':\n",
    "                    signal_map[yc][xc] = '#'\n",
    "            \n",
    "            \n",
    "    \n",
    "\n",
    "\n",
    "\n",
    "\n",
    "plot_coverage(10, 7, 4, 10)\n",
    "print_map()"
   ]
  },
  {
   "cell_type": "code",
   "execution_count": null,
   "id": "f8fd1493-4d8c-42fa-9925-8d9835fa6a33",
   "metadata": {},
   "outputs": [],
   "source": []
  },
  {
   "cell_type": "code",
   "execution_count": 20,
   "id": "fb50ff29-f4c4-4838-b726-fd1d7d444270",
   "metadata": {},
   "outputs": [
    {
     "name": "stdout",
     "output_type": "stream",
     "text": [
      "x max: 4083739 | x min: 91160 || y max: 4986732 | y min: 807769\n",
      "Line To Study: 2807769\n",
      "x_used: 4886371\n",
      "x_not_used: 1\n",
      "answer: 4886370\n"
     ]
    }
   ],
   "source": [
    "# problem one solution:\n",
    "\n",
    "x_max = 0\n",
    "y_max = 0\n",
    "x_min = 0\n",
    "y_min = 0\n",
    "\n",
    "for pair in input_map:\n",
    "    [sx, sy],[bx, by] = pair\n",
    "    x_max = max(x_max, sx, bx)\n",
    "    y_max = max(y_max, sy, by)\n",
    "    x_min = min(x_min, sx, bx)\n",
    "    y_min = min(y_min, sy, by)\n",
    "    \n",
    "if x_min <= 0:\n",
    "    x_min = -1 * x_min\n",
    "    x_min += 20\n",
    "if y_min <= 0:\n",
    "    y_min = -1 * y_min\n",
    "    y_min += 20\n",
    "    \n",
    "x_max += 1 + x_min + 20\n",
    "y_max += 1 + y_min + 20\n",
    "\n",
    "print('x max:', x_max, '| x min:', x_min, '|| y max:', y_max, '| y min:', y_min)\n",
    "\n",
    "\n",
    "# evaluate beacons and sensors, only mapping on the line we care about\n",
    "\n",
    "l2s = y_min + 2000000   # line to study, 10 is sample and 2000000 is problem\n",
    "x_used = set()     # set to store used x coords (y fixed in line above)\n",
    "x_non_used = set()    # count of B and S on the line to ignore\n",
    "\n",
    "print('Line To Study:', l2s)\n",
    "\n",
    "for pair in input_map:\n",
    "    [sx, sy],[bx, by] = pair\n",
    "    sx += x_min\n",
    "    sy += y_min\n",
    "    bx += x_min\n",
    "    by += y_min\n",
    "    if sy == l2s:\n",
    "        x_non_used.add(sx)\n",
    "    if by == l2s:\n",
    "        x_non_used.add(bx)\n",
    "    calculate_coverage(sx, sy, bx, by, l2s)\n",
    "    \n",
    "print('x_used:', len(x_used))\n",
    "print('x_not_used:', len(x_non_used))\n",
    "\n",
    "answer_set = x_used - x_non_used\n",
    "\n",
    "print('answer:', len(answer_set))\n",
    "    \n",
    "\n"
   ]
  },
  {
   "cell_type": "code",
   "execution_count": 17,
   "id": "30bc3404-2622-42b1-839b-c44c9396688a",
   "metadata": {},
   "outputs": [],
   "source": [
    "def calculate_coverage(sx, sy, bx, by, l2s):\n",
    "    \n",
    "    distance = abs(sy - by) + abs(sx - bx)\n",
    "    \n",
    "    for yc in range(sy-distance, sy+distance+1):\n",
    "        if yc == l2s:\n",
    "            y_offset = distance - abs(yc - sy)\n",
    "            for xc in range(sx - y_offset, sx+y_offset+1):\n",
    "                x_used.add(xc)"
   ]
  },
  {
   "cell_type": "code",
   "execution_count": null,
   "id": "20009be0-ab27-4f6a-8aa9-19dcad38a6fe",
   "metadata": {},
   "outputs": [],
   "source": []
  },
  {
   "cell_type": "code",
   "execution_count": null,
   "id": "a3bfc72b-b2d4-48ca-94dc-43a5cda9e0dc",
   "metadata": {},
   "outputs": [],
   "source": [
    "# part 2 attempts - this is a failure. too much memory. Even tried slicing it into chunks, still going to take hours. New approach below.\n",
    "signal_map = ['' for i in range(0, 10000+1)]\n",
    "for i in range(0, 10000+1):\n",
    "    signal_map[i] = ['.' for i in range(0, 10000+1)]\n",
    "\n",
    "for iterator1 in range(0, 4000000, 10000):\n",
    "    for iterator2 in range(0, 4000000, 10000):\n",
    "        y_low_limit = iterator1\n",
    "        y_upper_limit = iterator1+10000\n",
    "        y_range = y_upper_limit - y_low_limit\n",
    "\n",
    " sensors_and_beacons   x_low_limit = iterator2\n",
    "        x_upper_limit = iterator2 + 10000\n",
    "        x_range = x_upper_limit - x_low_limit\n",
    "\n",
    "        print('------------------- y:', iterator1, 'x:', iterator2 )\n",
    "\n",
    "\n",
    "        # populate map with sensors and beacons\n",
    "\n",
    "        for pair in tqdm(input_map, leave=False):\n",
    "            [sx, sy],[bx, by] = pair\n",
    "            if x_low_limit <= sx <= x_upper_limit and y_low_limit <= sy <= y_upper_limit:\n",
    "                signal_map[sy-y_low_limit][sx-x_low_limit] = 'S'\n",
    "            if x_low_limit <= bx <= x_upper_limit and x_low_limit <= by <= x_upper_limit:\n",
    "                signal_map[by-y_low_limit][bx-x_low_limit] = 'B'\n",
    "            plot_coverage_part_2(sx, sy, bx, by, x_low_limit, x_upper_limit, y_low_limit, y_upper_limit)\n",
    "\n",
    "\n",
    "\n",
    "\n",
    "        for i in range(0, y_range):\n",
    "            for j in range(0, x_range):\n",
    "                if signal_map[j][i] == '.':\n",
    "                    print('Winner at :', j, ',', i, 'for score of ', (j*4000000)+i)\n",
    "                    break\n",
    "                else:\n",
    "                    signal_map[j][i] = '.'"
   ]
  },
  {
   "cell_type": "code",
   "execution_count": 3,
   "id": "27bb473c-2f4a-43a6-a37e-e33950d8a0a9",
   "metadata": {},
   "outputs": [],
   "source": [
    "def plot_coverage_part_2(sx, sy, bx, by, x_low, x_high, y_low, y_high):\n",
    "    \n",
    "    distance = abs(sy - by) + abs(sx - bx)\n",
    "    \n",
    "    y_start = max(sy-distance, y_low)\n",
    "    y_end = min(sy+distance+1, y_high+1)\n",
    "    \n",
    "    for yc in range(y_start, y_end):\n",
    "            y_offset = distance - abs(yc - sy)\n",
    "            x_start = max(sx - y_offset, x_low)\n",
    "            x_end = min(sx+y_offset+1, x_high+1)\n",
    "            for xc in range(x_start, x_end):\n",
    "                    if signal_map[yc-y_low][xc-x_low] == '.':\n",
    "                        signal_map[yc-y_low][xc-x_low] = '#'\n"
   ]
  },
  {
   "cell_type": "code",
   "execution_count": null,
   "id": "79aba37b-3436-4d1e-a6a0-7dded25751dd",
   "metadata": {},
   "outputs": [],
   "source": []
  },
  {
   "cell_type": "code",
   "execution_count": 14,
   "id": "1196a96e-5516-44af-bb4f-691aff13b851",
   "metadata": {},
   "outputs": [
    {
     "data": {
      "application/vnd.jupyter.widget-view+json": {
       "model_id": "8f96f0e58f994c359cdce96102424a30",
       "version_major": 2,
       "version_minor": 0
      },
      "text/plain": [
       "  0%|          | 14/3999986 [00:00<?, ?it/s]"
      ]
     },
     "metadata": {},
     "output_type": "display_data"
    },
    {
     "data": {
      "application/vnd.jupyter.widget-view+json": {
       "model_id": "",
       "version_major": 2,
       "version_minor": 0
      },
      "text/plain": [
       "  0%|          | 0/4000000 [00:00<?, ?it/s]"
      ]
     },
     "metadata": {},
     "output_type": "display_data"
    },
    {
     "data": {
      "application/vnd.jupyter.widget-view+json": {
       "model_id": "",
       "version_major": 2,
       "version_minor": 0
      },
      "text/plain": [
       "  0%|          | 0/4000000 [00:00<?, ?it/s]"
      ]
     },
     "metadata": {},
     "output_type": "display_data"
    },
    {
     "data": {
      "application/vnd.jupyter.widget-view+json": {
       "model_id": "",
       "version_major": 2,
       "version_minor": 0
      },
      "text/plain": [
       "  0%|          | 0/4000000 [00:00<?, ?it/s]"
      ]
     },
     "metadata": {},
     "output_type": "display_data"
    },
    {
     "data": {
      "application/vnd.jupyter.widget-view+json": {
       "model_id": "",
       "version_major": 2,
       "version_minor": 0
      },
      "text/plain": [
       "  0%|          | 0/4000000 [00:00<?, ?it/s]"
      ]
     },
     "metadata": {},
     "output_type": "display_data"
    },
    {
     "data": {
      "application/vnd.jupyter.widget-view+json": {
       "model_id": "",
       "version_major": 2,
       "version_minor": 0
      },
      "text/plain": [
       "  0%|          | 0/4000000 [00:00<?, ?it/s]"
      ]
     },
     "metadata": {},
     "output_type": "display_data"
    },
    {
     "data": {
      "application/vnd.jupyter.widget-view+json": {
       "model_id": "",
       "version_major": 2,
       "version_minor": 0
      },
      "text/plain": [
       "  0%|          | 0/4000000 [00:00<?, ?it/s]"
      ]
     },
     "metadata": {},
     "output_type": "display_data"
    },
    {
     "data": {
      "application/vnd.jupyter.widget-view+json": {
       "model_id": "",
       "version_major": 2,
       "version_minor": 0
      },
      "text/plain": [
       "  0%|          | 0/4000000 [00:00<?, ?it/s]"
      ]
     },
     "metadata": {},
     "output_type": "display_data"
    },
    {
     "data": {
      "application/vnd.jupyter.widget-view+json": {
       "model_id": "",
       "version_major": 2,
       "version_minor": 0
      },
      "text/plain": [
       "  0%|          | 0/4000000 [00:00<?, ?it/s]"
      ]
     },
     "metadata": {},
     "output_type": "display_data"
    },
    {
     "data": {
      "application/vnd.jupyter.widget-view+json": {
       "model_id": "",
       "version_major": 2,
       "version_minor": 0
      },
      "text/plain": [
       "  0%|          | 0/4000000 [00:00<?, ?it/s]"
      ]
     },
     "metadata": {},
     "output_type": "display_data"
    },
    {
     "data": {
      "application/vnd.jupyter.widget-view+json": {
       "model_id": "",
       "version_major": 2,
       "version_minor": 0
      },
      "text/plain": [
       "  0%|          | 0/4000000 [00:00<?, ?it/s]"
      ]
     },
     "metadata": {},
     "output_type": "display_data"
    },
    {
     "data": {
      "application/vnd.jupyter.widget-view+json": {
       "model_id": "",
       "version_major": 2,
       "version_minor": 0
      },
      "text/plain": [
       "  0%|          | 0/4000000 [00:00<?, ?it/s]"
      ]
     },
     "metadata": {},
     "output_type": "display_data"
    },
    {
     "data": {
      "application/vnd.jupyter.widget-view+json": {
       "model_id": "",
       "version_major": 2,
       "version_minor": 0
      },
      "text/plain": [
       "  0%|          | 0/4000000 [00:00<?, ?it/s]"
      ]
     },
     "metadata": {},
     "output_type": "display_data"
    },
    {
     "data": {
      "application/vnd.jupyter.widget-view+json": {
       "model_id": "",
       "version_major": 2,
       "version_minor": 0
      },
      "text/plain": [
       "  0%|          | 0/4000000 [00:00<?, ?it/s]"
      ]
     },
     "metadata": {},
     "output_type": "display_data"
    },
    {
     "data": {
      "application/vnd.jupyter.widget-view+json": {
       "model_id": "",
       "version_major": 2,
       "version_minor": 0
      },
      "text/plain": [
       "  0%|          | 0/4000000 [00:00<?, ?it/s]"
      ]
     },
     "metadata": {},
     "output_type": "display_data"
    },
    {
     "data": {
      "application/vnd.jupyter.widget-view+json": {
       "model_id": "",
       "version_major": 2,
       "version_minor": 0
      },
      "text/plain": [
       "  0%|          | 0/4000000 [00:00<?, ?it/s]"
      ]
     },
     "metadata": {},
     "output_type": "display_data"
    },
    {
     "data": {
      "application/vnd.jupyter.widget-view+json": {
       "model_id": "",
       "version_major": 2,
       "version_minor": 0
      },
      "text/plain": [
       "  0%|          | 0/4000000 [00:00<?, ?it/s]"
      ]
     },
     "metadata": {},
     "output_type": "display_data"
    },
    {
     "data": {
      "application/vnd.jupyter.widget-view+json": {
       "model_id": "",
       "version_major": 2,
       "version_minor": 0
      },
      "text/plain": [
       "  0%|          | 0/4000000 [00:00<?, ?it/s]"
      ]
     },
     "metadata": {},
     "output_type": "display_data"
    },
    {
     "data": {
      "application/vnd.jupyter.widget-view+json": {
       "model_id": "",
       "version_major": 2,
       "version_minor": 0
      },
      "text/plain": [
       "  0%|          | 0/4000000 [00:00<?, ?it/s]"
      ]
     },
     "metadata": {},
     "output_type": "display_data"
    },
    {
     "data": {
      "application/vnd.jupyter.widget-view+json": {
       "model_id": "",
       "version_major": 2,
       "version_minor": 0
      },
      "text/plain": [
       "  0%|          | 0/4000000 [00:00<?, ?it/s]"
      ]
     },
     "metadata": {},
     "output_type": "display_data"
    },
    {
     "data": {
      "application/vnd.jupyter.widget-view+json": {
       "model_id": "",
       "version_major": 2,
       "version_minor": 0
      },
      "text/plain": [
       "  0%|          | 0/4000000 [00:00<?, ?it/s]"
      ]
     },
     "metadata": {},
     "output_type": "display_data"
    },
    {
     "data": {
      "application/vnd.jupyter.widget-view+json": {
       "model_id": "",
       "version_major": 2,
       "version_minor": 0
      },
      "text/plain": [
       "  0%|          | 0/4000000 [00:00<?, ?it/s]"
      ]
     },
     "metadata": {},
     "output_type": "display_data"
    },
    {
     "data": {
      "application/vnd.jupyter.widget-view+json": {
       "model_id": "",
       "version_major": 2,
       "version_minor": 0
      },
      "text/plain": [
       "  0%|          | 0/4000000 [00:00<?, ?it/s]"
      ]
     },
     "metadata": {},
     "output_type": "display_data"
    },
    {
     "data": {
      "application/vnd.jupyter.widget-view+json": {
       "model_id": "",
       "version_major": 2,
       "version_minor": 0
      },
      "text/plain": [
       "  0%|          | 0/4000000 [00:00<?, ?it/s]"
      ]
     },
     "metadata": {},
     "output_type": "display_data"
    },
    {
     "data": {
      "application/vnd.jupyter.widget-view+json": {
       "model_id": "",
       "version_major": 2,
       "version_minor": 0
      },
      "text/plain": [
       "  0%|          | 0/4000000 [00:00<?, ?it/s]"
      ]
     },
     "metadata": {},
     "output_type": "display_data"
    },
    {
     "data": {
      "application/vnd.jupyter.widget-view+json": {
       "model_id": "d8f9fc7fa12e4d468d103404b3e06ce1",
       "version_major": 2,
       "version_minor": 0
      },
      "text/plain": [
       "  0%|          | 0/4000000 [00:00<?, ?it/s]"
      ]
     },
     "metadata": {},
     "output_type": "display_data"
    },
    {
     "ename": "KeyboardInterrupt",
     "evalue": "",
     "output_type": "error",
     "traceback": [
      "\u001b[0;31m---------------------------------------------------------------------------\u001b[0m",
      "\u001b[0;31mKeyboardInterrupt\u001b[0m                         Traceback (most recent call last)",
      "Cell \u001b[0;32mIn[14], line 22\u001b[0m\n\u001b[1;32m     20\u001b[0m covered \u001b[38;5;241m=\u001b[39m \u001b[38;5;28;01mFalse\u001b[39;00m\n\u001b[1;32m     21\u001b[0m \u001b[38;5;28;01mfor\u001b[39;00m ((sx, sy), s_range) \u001b[38;5;129;01min\u001b[39;00m sense_range:\n\u001b[0;32m---> 22\u001b[0m     distance \u001b[38;5;241m=\u001b[39m \u001b[38;5;28;43mabs\u001b[39;49m\u001b[43m(\u001b[49m\u001b[43msy\u001b[49m\u001b[38;5;241;43m-\u001b[39;49m\u001b[43mi\u001b[49m\u001b[43m)\u001b[49m \u001b[38;5;241m+\u001b[39m \u001b[38;5;28mabs\u001b[39m(sx\u001b[38;5;241m-\u001b[39mj)\n\u001b[1;32m     23\u001b[0m     \u001b[38;5;28;01mif\u001b[39;00m s_range \u001b[38;5;241m>\u001b[39m distance:\n\u001b[1;32m     24\u001b[0m         covered \u001b[38;5;241m=\u001b[39m \u001b[38;5;28;01mTrue\u001b[39;00m\n",
      "\u001b[0;31mKeyboardInterrupt\u001b[0m: "
     ]
    }
   ],
   "source": [
    "#Part 2, take 3 (i think?) This time we go every coord and see if it's in range of a sensor\n",
    "\n",
    "# new approach also going to take forever. This is not fun. Lets try again below\n",
    "\n",
    "sensors_and_beacons = set()\n",
    "sense_range = []\n",
    "\n",
    "\n",
    "for pair in input_map:\n",
    "    [sx, sy],[bx, by] = pair\n",
    "    sensors_and_beacons.add((sx, sy))\n",
    "    sensors_and_beacons.add((bx, by))\n",
    "    distance = abs(sy - by) + abs(sx - bx)\n",
    "    sense_range.append(((sx, sy), distance))\n",
    "    \n",
    "\n",
    "for i in tqdm(range(14, 4000000), initial=14):\n",
    "    for j in tqdm(range(0, 4000000), leave=False):\n",
    "        \n",
    "        covered = False\n",
    "        for ((sx, sy), s_range) in sense_range:\n",
    "            distance = abs(sy-i) + abs(sx-j)\n",
    "            if s_range > distance:\n",
    "                covered = True\n",
    "                break\n",
    "        if not covered:\n",
    "            if (j, i) not in sensors_and_beacons:\n",
    "                print('Winner is ', j, ',', i, ' -> ', (j*4000000)+i )\n",
    "    \n",
    "            \n"
   ]
  },
  {
   "cell_type": "code",
   "execution_count": null,
   "id": "7d8904be-425a-45c8-8583-b1f6e8f14474",
   "metadata": {},
   "outputs": [],
   "source": [
    "# part 2, attempt 4 or 5. \n",
    "# Lets try allocating (still a LOT of) memory, but only one axis worth. \n",
    "# N rather than N^2. Then do range overlap comparisons over that 4000000 unit list.\n",
    "\n",
    "# I'm still leery about the memory usage but we'll see how this one goes.\n",
    "\n",
    "# YAY! Took about 15 seconds to solve. Ugh this one was both fun and super annoying at the same time."
   ]
  },
  {
   "cell_type": "code",
   "execution_count": 86,
   "id": "b47526aa-897c-423e-bb45-00e872d5353f",
   "metadata": {},
   "outputs": [
    {
     "data": {
      "application/vnd.jupyter.widget-view+json": {
       "model_id": "09ffdf2918b24793872f15a9bdd03519",
       "version_major": 2,
       "version_minor": 0
      },
      "text/plain": [
       "  0%|          | 0/38 [00:00<?, ?it/s]"
      ]
     },
     "metadata": {},
     "output_type": "display_data"
    }
   ],
   "source": [
    "t_range = 4000001\n",
    "\n",
    "signal_map = [[] for _ in range(0, t_range+1)]\n",
    "\n",
    "for pair in tqdm(input_map):\n",
    "    [sx, sy],[bx, by] = pair\n",
    "    append_ranges(sx, sy, bx, by)"
   ]
  },
  {
   "cell_type": "code",
   "execution_count": 54,
   "id": "12b0ee12-0c22-4149-8c82-f8fcfdcf2c2f",
   "metadata": {},
   "outputs": [],
   "source": [
    "def append_ranges(sx, sy, bx, by):\n",
    "    \n",
    "    distance = abs(sy - by) + abs(sx - bx)\n",
    "    \n",
    "    y_start = max(sy-distance, 0)\n",
    "    y_end = min(sy+distance+1, t_range+1)\n",
    "    \n",
    "    for yc in range(y_start, y_end):\n",
    "            y_offset = distance - abs(yc - sy)\n",
    "            x_start = max(sx - y_offset, 0)\n",
    "            x_end = min(sx+y_offset, t_range)\n",
    "            signal_map[yc].append((x_start, x_end))\n",
    "            \n"
   ]
  },
  {
   "cell_type": "code",
   "execution_count": 87,
   "id": "56095207-ff76-4169-b7a6-ac2dc0c6ce1e",
   "metadata": {},
   "outputs": [
    {
     "name": "stdout",
     "output_type": "stream",
     "text": [
      "Trouble on line  2948438\n",
      "2948438 0 2843632\n"
     ]
    }
   ],
   "source": [
    "def calculate_coverage(yc):\n",
    "    coverages = signal_map[yc]\n",
    "    coverages.sort()\n",
    "    \n",
    "    start = coverages[0][0]\n",
    "    end = coverages[0][1]\n",
    "    \n",
    "    for s, e in coverages:\n",
    "        if start <= s <= end+1:\n",
    "            if end < e:\n",
    "                end = e\n",
    "\n",
    "    \n",
    "    if start != 0 or end < t_range:\n",
    "        print('Trouble on line ', yc)\n",
    "        print(yc, start, end)           \n",
    "    \n",
    "calculate_coverage(2948438)"
   ]
  },
  {
   "cell_type": "code",
   "execution_count": 89,
   "id": "c525c051-cfff-4d90-8cd2-943982576120",
   "metadata": {},
   "outputs": [
    {
     "name": "stdout",
     "output_type": "stream",
     "text": [
      "11374534948438\n"
     ]
    }
   ],
   "source": [
    "#signal_map[2948438]\n",
    "print( 2843633*4000000 + 2948438) \n",
    "\n",
    "#problem on line 2948438, the missing coord is 2843633 - correct answer is 11374534948438! YAY!"
   ]
  },
  {
   "cell_type": "code",
   "execution_count": 88,
   "id": "7614cf2e-99c3-4fed-ace0-c942f593a83d",
   "metadata": {},
   "outputs": [
    {
     "data": {
      "application/vnd.jupyter.widget-view+json": {
       "model_id": "74311d45223f4dce920786ae55ff4b57",
       "version_major": 2,
       "version_minor": 0
      },
      "text/plain": [
       "  0%|          | 0/4000002 [00:00<?, ?it/s]"
      ]
     },
     "metadata": {},
     "output_type": "display_data"
    },
    {
     "name": "stdout",
     "output_type": "stream",
     "text": [
      "Trouble on line  2948438\n",
      "2948438 0 2843632\n"
     ]
    }
   ],
   "source": [
    "for yc in tqdm(range(0, len(signal_map))):\n",
    "    calculate_coverage(yc)"
   ]
  }
 ],
 "metadata": {
  "kernelspec": {
   "display_name": "Python 3 (ipykernel)",
   "language": "python",
   "name": "python3"
  },
  "language_info": {
   "codemirror_mode": {
    "name": "ipython",
    "version": 3
   },
   "file_extension": ".py",
   "mimetype": "text/x-python",
   "name": "python",
   "nbconvert_exporter": "python",
   "pygments_lexer": "ipython3",
   "version": "3.10.8"
  }
 },
 "nbformat": 4,
 "nbformat_minor": 5
}
